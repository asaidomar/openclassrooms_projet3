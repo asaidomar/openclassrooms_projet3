{
 "cells": [
  {
   "cell_type": "markdown",
   "metadata": {
    "pycharm": {
     "name": "#%% md\n"
    }
   },
   "source": [
    "Grace aux jeux de données, Il nous a été possible de présenter la répartition des macronutiments. \n",
    "Néanmoins notre étude se limite aux produits présents dans le jeux de données. Pour un produit \n",
    "absent il serait possible trouver le plus similaire (notion de similarité à définir) afin d'en connaitre la répartition. Il nous été impossible d'analyser la répartition des différents micronutriments du fait de la faible diversité des valeurs.\n",
    "\n",
    "Dans la suite du projet, il serait intéressant d'affiner les besoins selon le sexe, l'age et le poids de l'utilisateur. Enfin notre application pourrait s'inscrire dans des projets comme : la perte de poids, le gain de masse et le maintient d'une alimentation saine.  "
   ]
  }
 ],
 "metadata": {
  "kernelspec": {
   "display_name": "Python 3",
   "language": "python",
   "name": "python3"
  },
  "language_info": {
   "codemirror_mode": {
    "name": "ipython",
    "version": 3
   },
   "file_extension": ".py",
   "mimetype": "text/x-python",
   "name": "python",
   "nbconvert_exporter": "python",
   "pygments_lexer": "ipython3",
   "version": "3.7.4"
  },
  "pycharm": {
   "stem_cell": {
    "cell_type": "raw",
    "source": [],
    "metadata": {
     "collapsed": false
    }
   }
  },
  "toc": {
   "base_numbering": 1,
   "nav_menu": {},
   "number_sections": true,
   "sideBar": true,
   "skip_h1_title": false,
   "title_cell": "Table of Contents",
   "title_sidebar": "Contents",
   "toc_cell": false,
   "toc_position": {},
   "toc_section_display": true,
   "toc_window_display": false
  }
 },
 "nbformat": 4,
 "nbformat_minor": 1
}