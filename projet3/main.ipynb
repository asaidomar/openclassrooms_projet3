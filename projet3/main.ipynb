{
 "cells": [
  {
   "cell_type": "code",
   "execution_count": 1,
   "metadata": {
    "pycharm": {
     "is_executing": false,
     "name": "#%%\n"
    }
   },
   "outputs": [
    {
     "name": "stderr",
     "output_type": "stream",
     "text": [
      "/Users/alisaidomar/openclassroom_projet3/lib/python3.7/site-packages/IPython/core/interactiveshell.py:3249: DtypeWarning: Columns (0,24,25,26,28,44,49) have mixed types. Specify dtype option on import or set low_memory=False.\n",
      "  if (await self.run_code(code, result,  async_=asy)):\n"
     ]
    }
   ],
   "source": [
    "import seaborn as sns\n",
    "import matplotlib.pyplot as plt\n",
    "import numpy as np\n",
    "import pandas as pd\n",
    "\n",
    "from projet3 import utils\n",
    "from projet3 import ead\n",
    "\n"
   ]
  },
  {
   "cell_type": "markdown",
   "metadata": {
    "pycharm": {
     "name": "#%% md\n"
    }
   },
   "source": [
    "QUALITÉS NUTRITIONELLES D'UN REPAS À DESTINATION DES SPORTIFS\n",
    "==========================================================\n",
    "Pour un sportif être capable d'analyser la qualité de son repas et connaitre les\n",
    "proportions des différent marconutriments et/ou micronutriments.\n",
    "\n",
    "PRÉ-AMBULE\n",
    "===========\n",
    "Depuis la source de données accessible à l'addresse https://static.openfoodfacts.org/data/en.openfoodfacts.org.products.csv, nous allons réaliser les tâches suivantes:\n",
    "1. Analyser la qualité de la données ; boulons, complétude.\n",
    "2. Analyse statisque univarié.\n",
    "3. Analyse statisque bivarié.\n",
    "4. Exploitation des données dans le but d'extraire les proportions en terme de macronutriments/micronutriments.\n"
   ]
  },
  {
   "cell_type": "markdown",
   "metadata": {
    "pycharm": {
     "name": "#%% md\n"
    }
   },
   "source": [
    "# ANALYSE QUALITATIVE DE LA DONNÉE\n"
   ]
  },
  {
   "cell_type": "markdown",
   "metadata": {
    "pycharm": {
     "name": "#%% md\n"
    }
   },
   "source": [
    "Version"
   ]
  },
  {
   "cell_type": "code",
   "execution_count": 2,
   "metadata": {
    "pycharm": {
     "is_executing": false,
     "name": "#%%\n"
    }
   },
   "outputs": [
    {
     "name": "stdout",
     "output_type": "stream",
     "text": [
      "VERSION librairies\n",
      "Python version 3.7.4 (v3.7.4:e09359112e, Jul  8 2019, 14:54:52) \n",
      "[Clang 6.0 (clang-600.0.57)]\n",
      "Numpy version 1.17.3\n",
      "Pandas version 0.25.2\n",
      "Matplotlib version 3.1.1\n",
      "Seaborn version 0.9.0\n"
     ]
    }
   ],
   "source": [
    "utils.print_version()"
   ]
  },
  {
   "cell_type": "code",
   "execution_count": 3,
   "metadata": {
    "code_folding": [],
    "pycharm": {
     "is_executing": false,
     "name": "#%%\n"
    },
    "scrolled": false
   },
   "outputs": [],
   "source": [
    "# Données brutes\n",
    "data_df = ead.get_data()\n",
    "\n",
    "#Info\n",
    "# les 10 premiere lignes"
   ]
  },
  {
   "cell_type": "markdown",
   "metadata": {
    "pycharm": {
     "name": "#%% md\n"
    }
   },
   "source": [
    "Extrait du dataset"
   ]
  },
  {
   "cell_type": "code",
   "execution_count": null,
   "metadata": {
    "pycharm": {
     "is_executing": false,
     "name": "#%%\n"
    }
   },
   "outputs": [],
   "source": [
    "data_df.head(10)"
   ]
  },
  {
   "cell_type": "markdown",
   "metadata": {
    "pycharm": {
     "name": "#%% md\n"
    }
   },
   "source": [
    "Info complète du dataset"
   ]
  },
  {
   "cell_type": "code",
   "execution_count": null,
   "metadata": {
    "pycharm": {
     "is_executing": false,
     "name": "#%%\n"
    },
    "scrolled": false
   },
   "outputs": [],
   "source": [
    "data_df.info(verbose=True, null_counts=True)\n"
   ]
  },
  {
   "cell_type": "markdown",
   "metadata": {
    "pycharm": {
     "name": "#%% md\n"
    }
   },
   "source": [
    "Description"
   ]
  },
  {
   "cell_type": "code",
   "execution_count": null,
   "metadata": {
    "pycharm": {
     "is_executing": false,
     "name": "#%%\n"
    }
   },
   "outputs": [],
   "source": [
    "data_df.describe()\n"
   ]
  },
  {
   "cell_type": "markdown",
   "metadata": {
    "pycharm": {
     "name": "#%% md\n"
    }
   },
   "source": [
    "Les lignes en doublons"
   ]
  },
  {
   "cell_type": "code",
   "execution_count": null,
   "metadata": {
    "pycharm": {
     "is_executing": false,
     "name": "#%%\n"
    },
    "scrolled": false
   },
   "outputs": [],
   "source": [
    "data_df[data_df.duplicated()==True]"
   ]
  },
  {
   "cell_type": "markdown",
   "metadata": {
    "pycharm": {
     "name": "#%% md\n"
    }
   },
   "source": [
    "Complétude des colonnes, nous allons cherche les colonnes dont la compètude est >= 70 % et celles <= 0.01%"
   ]
  },
  {
   "cell_type": "code",
   "execution_count": null,
   "metadata": {
    "pycharm": {
     "is_executing": false,
     "name": "#%%\n"
    },
    "scrolled": true
   },
   "outputs": [],
   "source": [
    "completude_df = ead.get_columns_completude()"
   ]
  },
  {
   "cell_type": "code",
   "execution_count": null,
   "metadata": {
    "pycharm": {
     "is_executing": false,
     "name": "#%%\n"
    }
   },
   "outputs": [],
   "source": [
    "completude_gt_70 = completude_df[completude_df[\"Completude\"] >= 70.0]"
   ]
  },
  {
   "cell_type": "code",
   "execution_count": null,
   "metadata": {
    "pycharm": {
     "is_executing": false,
     "name": "#%%\n"
    }
   },
   "outputs": [],
   "source": [
    "completude_gt_70"
   ]
  },
  {
   "cell_type": "code",
   "execution_count": null,
   "metadata": {
    "pycharm": {
     "is_executing": false,
     "name": "#%%\n"
    }
   },
   "outputs": [],
   "source": [
    "print(f'Dimension {completude_gt_70.shape}')\n"
   ]
  },
  {
   "cell_type": "code",
   "execution_count": null,
   "metadata": {
    "pycharm": {
     "is_executing": false,
     "name": "#%%\n"
    }
   },
   "outputs": [],
   "source": [
    "completude_lt_001 = completude_df[completude_df[\"Completude\"] < 0.01]"
   ]
  },
  {
   "cell_type": "code",
   "execution_count": null,
   "metadata": {
    "pycharm": {
     "is_executing": false,
     "name": "#%%\n"
    }
   },
   "outputs": [],
   "source": [
    "completude_lt_001"
   ]
  },
  {
   "cell_type": "code",
   "execution_count": null,
   "metadata": {
    "pycharm": {
     "is_executing": false,
     "name": "#%%\n"
    }
   },
   "outputs": [],
   "source": [
    "print(f\"Dimension {completude_lt_001.shape}\")\n"
   ]
  },
  {
   "cell_type": "markdown",
   "metadata": {
    "pycharm": {
     "name": "#%% md\n"
    }
   },
   "source": [
    "## Résultats\n",
    "Données issues de l'open data disponible gratuitement. Elle est composé de plus d'un million d'entrée et 175 colonnes:\n",
    "- pour 51 colonnes on dispose de moins des 0.01% des lignes de renseignées, ces colonnes peuvent être omises de notre analyse\n",
    "- pour 26 colonnes on dispose de plus de 70% des lignes de renseignées\n",
    "- 14 lignes sont en doublons\n",
    "- 119 colonnes correspondes à des données quantitative dont seulement 50 pour lesquels on dispose de plus de 1000 lignes (0.01% du volumes) de renseignées\n",
    "\n",
    "## Conclusion\n",
    "Les premières analyses sont plutôt positives; on dispose de peu de doublons et on dispose de 26 colonnes pour lesquelles plus de 70% des lignes sont renseignées.\n",
    "\n",
    "\n",
    "# ANALYSES STATISTIQUES UNIVARIÉES\n",
    "Dans cette partie nous allons procéder à l'analyse univariée sur les colonnes retenues dans le cadre de notre analyse\n",
    "\n",
    "## Choix des colonnes\n",
    "Dans un premier temps, sont retenues les colonnes pour lesquelles 70% de lignes sont remplies"
   ]
  },
  {
   "cell_type": "code",
   "execution_count": null,
   "metadata": {
    "pycharm": {
     "is_executing": false,
     "name": "#%%\n"
    }
   },
   "outputs": [],
   "source": [
    "completude_gt_70[\"Column\"]"
   ]
  },
  {
   "cell_type": "markdown",
   "metadata": {
    "pycharm": {
     "name": "#%% md\n"
    }
   },
   "source": [
    "Seules les colonnes\n",
    "```\n",
    "68                energy_100g\n",
    "70                   fat_100g\n",
    "71         saturated-fat_100g\n",
    "106        carbohydrates_100g\n",
    "107               sugars_100g\n",
    "117             proteins_100g\n",
    "121                 salt_100g\n",
    "122               sodium_100g\n",
    "```\n",
    "Correspondent à des données quantitatives. La colonnes 'energy_100g' ne correspond ni à un macronutiment ni à un micronutriment, celle ne sera pas prise en compte. Etant donné le cadre de notre étude,afin de connaitre la répartition des micronutriments, nous allons donc étendre notre analyse à certaines colonnes incluses dans:"
   ]
  },
  {
   "cell_type": "code",
   "execution_count": null,
   "metadata": {
    "pycharm": {
     "is_executing": false,
     "name": "#%%\n"
    }
   },
   "outputs": [],
   "source": [
    "completude_df[(completude_df[\"Completude\"] >= 10.0)&(completude_df[\"Completude\"] < 70.0)]"
   ]
  },
  {
   "cell_type": "markdown",
   "metadata": {
    "pycharm": {
     "name": "#%% md\n"
    }
   },
   "source": [
    "On retient alors les colonnes suivantes\n",
    "```\n",
    "104\ttrans-fat_100g\t14.303652\n",
    "105\tcholesterol_100g\t14.382140\n",
    "116\tfiber_100g\t29.860238\n",
    "124\tvitamin-a_100g\t13.779704\n",
    "129\tvitamin-c_100g\t14.132801\n",
    "143\tcalcium_100g\t14.473610\n",
    "145\tiron_100g\t14.142711\n",
    "```\n",
    "On regrettera de ne pas pouvoir retenir les vitamines B, leur couverture étant trop faible."
   ]
  },
  {
   "cell_type": "code",
   "execution_count": null,
   "metadata": {
    "pycharm": {
     "is_executing": false,
     "name": "#%%\n"
    }
   },
   "outputs": [],
   "source": [
    "all_columns = [\n",
    "    'calcium_100g','cholesterol_100g', 'trans-fat_100g', 'iron_100g',\n",
    "    'vitamin-c_100g', 'vitamin-a_100g', 'fat_100g', 'saturated-fat_100g', \n",
    "    'sugars_100g', 'carbohydrates_100g', 'proteins_100g','salt_100g',  \n",
    "    'sodium_100g'\n",
    "]\n",
    "categories_columns = ['code', 'product_name']"
   ]
  },
  {
   "cell_type": "markdown",
   "metadata": {
    "pycharm": {
     "name": "#%% md\n"
    }
   },
   "source": [
    "## Détection et traitement des données aberrantes."
   ]
  },
  {
   "cell_type": "code",
   "execution_count": null,
   "metadata": {
    "pycharm": {
     "is_executing": false,
     "name": "#%% \n"
    }
   },
   "outputs": [],
   "source": [
    "# Restrictions aux index étudiés\n",
    "data_restricted_df = data_df[all_columns]\n",
    "data_restricted_df.describe()"
   ]
  },
  {
   "cell_type": "markdown",
   "metadata": {
    "pycharm": {
     "name": "#%% md\n"
    }
   },
   "source": [
    "On constate des données < 0 et d'autre > 100g, on va donc procéder à des remplacements, les données qui semblent < 0 et > 100 seront remplacées par la valeur médiane de la serie alors que les données non numériques seront elle remplacées par la valeur 0. \n",
    "\n",
    "On procède à ce type de remplacement afin de conserver la même forme de distribution."
   ]
  },
  {
   "cell_type": "code",
   "execution_count": null,
   "metadata": {
    "pycharm": {
     "is_executing": false,
     "name": "#%%\n"
    }
   },
   "outputs": [],
   "source": [
    "for c in data_restricted_df.columns:\n",
    "    data_restricted_df[c][data_restricted_df[c] <= 0] = data_restricted_df[c].median()\n",
    "    data_restricted_df[data_restricted_df >= 100] = data_restricted_df[c].median()\n",
    "    data_restricted_df[data_restricted_df.isna()] = 0\n",
    "    data_restricted_df[data_restricted_df.isnull()] = 0\n",
    "    "
   ]
  },
  {
   "cell_type": "code",
   "execution_count": null,
   "metadata": {
    "code_folding": [],
    "pycharm": {
     "is_executing": false,
     "name": "#%%\n"
    }
   },
   "outputs": [],
   "source": [
    "# Vérification\n",
    "data_restricted_df.describe()"
   ]
  },
  {
   "cell_type": "markdown",
   "metadata": {
    "pycharm": {
     "name": "#%% md\n"
    }
   },
   "source": [
    "Visualisation des boites à moustache"
   ]
  },
  {
   "cell_type": "code",
   "execution_count": null,
   "metadata": {
    "code_folding": [],
    "pycharm": {
     "is_executing": false,
     "name": "#%%\n"
    },
    "scrolled": false
   },
   "outputs": [],
   "source": [
    "n = len(data_restricted_df.columns)\n",
    "fig, ax = plt.subplots(n, 1, figsize=(12,n*6))\n",
    "for i, c in enumerate(data_restricted_df.columns):\n",
    "    plt.sca(ax[i])\n",
    "    try:\n",
    "        ax_ = sns.boxplot(data=data_restricted_df[c])\n",
    "        plt.title(c)\n",
    "    except ValueError as error:\n",
    "        print(error)"
   ]
  },
  {
   "cell_type": "markdown",
   "metadata": {},
   "source": [
    "Résultats pour les colonnes, calcium_100g, cholesterol_100g,trans-fat_100g,iron_100g,vitamin-c_100g, vitamin-a_100g les données sont trop applaties, nous avons un problème d'échelle. \n",
    "Ces données seront traitées en mg pour 100g."
   ]
  },
  {
   "cell_type": "code",
   "execution_count": null,
   "metadata": {
    "pycharm": {
     "is_executing": false,
     "name": "#%%\n"
    }
   },
   "outputs": [],
   "source": [
    "data_restricted_df[\"calcium_100g\"] *= 1000\n",
    "data_restricted_df[\"cholesterol_100g\"] *= 1000\n",
    "data_restricted_df[\"trans-fat_100g\"] *= 1000\n",
    "data_restricted_df[\"vitamin-c_100g\"] *= 1000\n",
    "data_restricted_df[\"vitamin-a_100g\"] *= 1000"
   ]
  },
  {
   "cell_type": "markdown",
   "metadata": {
    "pycharm": {
     "name": "#%% md\n"
    }
   },
   "source": [
    "Affichage des boites à moustache sans les outliers afin de pouvoir afficher les quartiles pour toutes les colonnes."
   ]
  },
  {
   "cell_type": "code",
   "execution_count": null,
   "metadata": {
    "pycharm": {
     "is_executing": false,
     "name": "#%%\n"
    },
    "scrolled": false
   },
   "outputs": [],
   "source": [
    "n = len(data_restricted_df.columns)\n",
    "fig, ax = plt.subplots(n, 1, figsize=(12,n*6))\n",
    "for i, c in enumerate(data_restricted_df.columns):\n",
    "    plt.sca(ax[i])\n",
    "    try:\n",
    "        y_values = data_restricted_df[c]\n",
    "        # affichage sans les outilers\n",
    "        ax_ = sns.boxplot(data=data_restricted_df[c], showfliers=False)\n",
    "        plt.title(c)\n",
    "        #plt.ylim(0, 110)\n",
    "    except ValueError as error:\n",
    "        print(error)"
   ]
  },
  {
   "cell_type": "markdown",
   "metadata": {},
   "source": [
    "## Affichage des histogrammes pour les différents index"
   ]
  },
  {
   "cell_type": "code",
   "execution_count": null,
   "metadata": {
    "pycharm": {
     "is_executing": false,
     "name": "#%%\n"
    },
    "scrolled": false
   },
   "outputs": [],
   "source": [
    "# \n",
    "columns  = all_columns\n",
    "data_restricted_df[columns][data_restricted_df[columns].isna()] = 0\n",
    "n = len(columns)\n",
    "fig, ax = plt.subplots(n, 1, figsize=(12,n*6))\n",
    "\n",
    "for i, s in enumerate(columns):\n",
    "    try:\n",
    "        plt.sca(ax[i])\n",
    "        print(f\"Analyse de {s}\")\n",
    "        print(data_restricted_df[s].describe())\n",
    "        sns.distplot(data_restricted_df[s], kde=True, norm_hist=True)\n",
    "    except Exception as error:\n",
    "        print(f'{error} while the display')\n"
   ]
  },
  {
   "cell_type": "markdown",
   "metadata": {
    "pycharm": {
     "name": "#%% md\n"
    }
   },
   "source": [
    "## Résultats\n",
    "Une fois de plus on constate que les colonnes calcium_100g, cholesterol_100g,trans-fat_100g,iron_100g,vitamin-c_100g, vitamin-a_100g sont très applaties. Pour les autres index on constate une répartition asymétrique vers la droite avec une valeur modal assez proche de 0. \n",
    "\n",
    "## Conclusion\n",
    "Etant donnée le cadre de notre projet; répartition des macronutriment et/ou micronutriments dans le cadre de d'une alimentation de sportif. \n",
    "Nous allons omettre ces colonnes afin de préciser notre projet et nous concentrer sur la répartition des macronutriments.\n",
    "\n",
    "\n",
    "# ANALYSES STATISTIQUES MULTIVARIÉES\n",
    "\n",
    "## Affichage des pair plots\n",
    "Nous allons au préalable filter sur les lignes pour lesquelles toutes les colonnes sont renséignées. \n",
    "l' \"energy_100g\" pouvant etre calculée à partir des macronutriments."
   ]
  },
  {
   "cell_type": "code",
   "execution_count": null,
   "metadata": {
    "pycharm": {
     "is_executing": false,
     "name": "#%%\n"
    }
   },
   "outputs": [],
   "source": [
    "all_columns_mutivar = [\n",
    "    'fat_100g', 'saturated-fat_100g', \n",
    "    'sugars_100g', 'carbohydrates_100g', 'proteins_100g','salt_100g',  \n",
    "    'sodium_100g'\n",
    "]\n",
    "sns.pairplot(data_restricted_df[all_columns_mutivar]) "
   ]
  },
  {
   "cell_type": "markdown",
   "metadata": {
    "pycharm": {
     "name": "#%% md\n"
    }
   },
   "source": [
    "## Affichage de la Heat map"
   ]
  },
  {
   "cell_type": "code",
   "execution_count": null,
   "metadata": {
    "pycharm": {
     "is_executing": false,
     "name": "#%%\n"
    }
   },
   "outputs": [],
   "source": [
    "sns.heatmap(data_restricted_df[all_columns_mutivar].select_dtypes(include=np.number).corr())"
   ]
  },
  {
   "cell_type": "markdown",
   "metadata": {
    "pycharm": {
     "name": "#%% md\n"
    }
   },
   "source": [
    "## Résultats\n",
    "On constate une forte corrélation etre le sodium et le sel, nous pouvons donc conserver uniquement l'une de ces colonnes.\n",
    "\n",
    "\n",
    "# EXPLOITATION DES DONNEES\n",
    "Analyse de la composition d'un repas, composé de plusiuers produits\n",
    "\n",
    "Remarque:\n",
    "En toute rigueur, il aurait fallu prendre en compte la "
   ]
  },
  {
   "cell_type": "code",
   "execution_count": null,
   "metadata": {
    "pycharm": {
     "is_executing": false
    }
   },
   "outputs": [],
   "source": []
  },
  {
   "cell_type": "code",
   "execution_count": 4,
   "metadata": {
    "pycharm": {
     "is_executing": false,
     "name": "#%% \n"
    }
   },
   "outputs": [],
   "source": [
    "columns = ['fat_100g', 'saturated-fat_100g', 'sugars_100g', \n",
    "           'carbohydrates_100g', 'proteins_100g','salt_100g']"
   ]
  },
  {
   "cell_type": "markdown",
   "metadata": {
    "pycharm": {
     "name": "#%% md\n"
    }
   },
   "source": [
    "Réalisation d'un échantillon (repas) compose de 5 produits"
   ]
  },
  {
   "cell_type": "code",
   "execution_count": 5,
   "metadata": {
    "pycharm": {
     "is_executing": false,
     "name": "#%%\n"
    }
   },
   "outputs": [],
   "source": [
    "sample = data_df.sample(5)\n",
    "codes = sample[\"code\"]\n",
    "sum_ = sample.sum()\n"
   ]
  },
  {
   "cell_type": "markdown",
   "metadata": {
    "pycharm": {
     "name": "#%% md\n"
    }
   },
   "source": [
    "Nom des produits "
   ]
  },
  {
   "cell_type": "code",
   "execution_count": 6,
   "metadata": {
    "pycharm": {
     "is_executing": false,
     "name": "#%%\n"
    }
   },
   "outputs": [
    {
     "data": {
      "text/html": [
       "<div>\n",
       "<style scoped>\n",
       "    .dataframe tbody tr th:only-of-type {\n",
       "        vertical-align: middle;\n",
       "    }\n",
       "\n",
       "    .dataframe tbody tr th {\n",
       "        vertical-align: top;\n",
       "    }\n",
       "\n",
       "    .dataframe thead th {\n",
       "        text-align: right;\n",
       "    }\n",
       "</style>\n",
       "<table border=\"1\" class=\"dataframe\">\n",
       "  <thead>\n",
       "    <tr style=\"text-align: right;\">\n",
       "      <th></th>\n",
       "      <th>product_name</th>\n",
       "    </tr>\n",
       "  </thead>\n",
       "  <tbody>\n",
       "    <tr>\n",
       "      <th>584693</th>\n",
       "      <td>Olives noires à la Grecque</td>\n",
       "    </tr>\n",
       "    <tr>\n",
       "      <th>573105</th>\n",
       "      <td>Marrons Glacés Grand cru</td>\n",
       "    </tr>\n",
       "    <tr>\n",
       "      <th>734220</th>\n",
       "      <td>NaN</td>\n",
       "    </tr>\n",
       "    <tr>\n",
       "      <th>84495</th>\n",
       "      <td>100% Whole Wheat Bagels</td>\n",
       "    </tr>\n",
       "    <tr>\n",
       "      <th>707025</th>\n",
       "      <td>Tesco Raspberry Sponge Cake</td>\n",
       "    </tr>\n",
       "  </tbody>\n",
       "</table>\n",
       "</div>"
      ],
      "text/plain": [
       "                       product_name\n",
       "584693   Olives noires à la Grecque\n",
       "573105     Marrons Glacés Grand cru\n",
       "734220                          NaN\n",
       "84495       100% Whole Wheat Bagels\n",
       "707025  Tesco Raspberry Sponge Cake"
      ]
     },
     "execution_count": 6,
     "metadata": {},
     "output_type": "execute_result"
    }
   ],
   "source": [
    "sample[[\"product_name\"]]"
   ]
  },
  {
   "cell_type": "markdown",
   "metadata": {
    "pycharm": {
     "name": "#%% md\n"
    }
   },
   "source": [
    "Données de référence"
   ]
  },
  {
   "cell_type": "code",
   "execution_count": null,
   "metadata": {
    "pycharm": {
     "is_executing": false,
     "name": "#%%\n"
    }
   },
   "outputs": [],
   "source": [
    "reference = utils.get_reference(data_df, columns, [])"
   ]
  },
  {
   "cell_type": "code",
   "execution_count": null,
   "metadata": {
    "pycharm": {
     "is_executing": false,
     "name": "#%%\n"
    }
   },
   "outputs": [],
   "source": [
    "# Données de référence\n",
    "reference"
   ]
  },
  {
   "cell_type": "code",
   "execution_count": null,
   "metadata": {
    "pycharm": {
     "is_executing": false,
     "name": "#%%\n"
    }
   },
   "outputs": [],
   "source": [
    "# Données en Kcal\n",
    "metrics_brut = utils.get_metrics(sample, codes=list(codes), columns=columns, columns_mg=[])\n",
    "metrics_brut"
   ]
  },
  {
   "cell_type": "markdown",
   "metadata": {
    "pycharm": {
     "name": "#%% md\n"
    }
   },
   "source": [
    "Comparaison repas/reference"
   ]
  },
  {
   "cell_type": "code",
   "execution_count": null,
   "metadata": {
    "pycharm": {
     "is_executing": false,
     "name": "#%%\n"
    }
   },
   "outputs": [],
   "source": [
    "sns.set_color_codes(\"pastel\")\n",
    "sns.set(style=\"whitegrid\")\n",
    "data_metrics = pd.DataFrame({\"Repas\": metrics_brut, \"Reference\": reference})\n",
    "data_metrics.plot.barh()\n",
    "plt.show()\n"
   ]
  },
  {
   "cell_type": "markdown",
   "metadata": {
    "pycharm": {
     "name": "#%% md\n"
    }
   },
   "source": [
    "Affichage radar"
   ]
  },
  {
   "cell_type": "code",
   "execution_count": null,
   "metadata": {
    "pycharm": {
     "is_executing": false,
     "name": "#%%\n"
    }
   },
   "outputs": [],
   "source": [
    "utils.plot_radar(metrics_brut, columns)\n",
    "utils.plot_radar(reference, columns)\n"
   ]
  },
  {
   "cell_type": "markdown",
   "metadata": {
    "pycharm": {
     "name": "#%% md\n"
    }
   },
   "source": [
    "Repartition energétique"
   ]
  },
  {
   "cell_type": "code",
   "execution_count": null,
   "metadata": {
    "pycharm": {
     "is_executing": false,
     "name": "#%%\n"
    }
   },
   "outputs": [],
   "source": [
    "\n",
    "sample_c = utils.get_kcal(metrics_brut)\n",
    "sample_c.describe()"
   ]
  },
  {
   "cell_type": "markdown",
   "metadata": {
    "pycharm": {
     "name": "#%% md\n"
    }
   },
   "source": [
    "Reparition energetique du repas"
   ]
  },
  {
   "cell_type": "code",
   "execution_count": null,
   "metadata": {
    "pycharm": {
     "is_executing": false,
     "name": "#%%\n"
    }
   },
   "outputs": [],
   "source": [
    "sample_c.plot.pie(label=\"repas\", autopct='%1.0f%%', pctdistance=1.1, labeldistance=1.2, figsize=(18, 9))"
   ]
  },
  {
   "cell_type": "markdown",
   "metadata": {
    "pycharm": {
     "name": "#%% md\n"
    }
   },
   "source": [
    "Reparition energetique de la référence"
   ]
  },
  {
   "cell_type": "code",
   "execution_count": null,
   "metadata": {
    "pycharm": {
     "is_executing": false,
     "name": "#%%\n"
    }
   },
   "outputs": [],
   "source": [
    "sample_ref_c = utils.get_kcal(reference)\n",
    "sample_ref_c.plot.pie(label=\"repas\", autopct='%1.0f%%', pctdistance=1.1, labeldistance=1.2, figsize=(18, 9))"
   ]
  },
  {
   "cell_type": "markdown",
   "metadata": {
    "pycharm": {
     "name": "#%% md\n"
    }
   },
   "source": [
    "# CONCLUSION \n",
    "Dans la dernière partie nous nous sommes concentré à calculer la répartition des macronutiments pour 100g de produit, "
   ]
  }
 ],
 "metadata": {
  "kernelspec": {
   "display_name": "Python 3",
   "language": "python",
   "name": "python3"
  },
  "language_info": {
   "codemirror_mode": {
    "name": "ipython",
    "version": 3
   },
   "file_extension": ".py",
   "mimetype": "text/x-python",
   "name": "python",
   "nbconvert_exporter": "python",
   "pygments_lexer": "ipython3",
   "version": "3.7.4"
  },
  "pycharm": {
   "stem_cell": {
    "cell_type": "raw",
    "metadata": {
     "collapsed": false
    },
    "source": []
   }
  },
  "toc": {
   "base_numbering": 1,
   "nav_menu": {},
   "number_sections": true,
   "sideBar": true,
   "skip_h1_title": false,
   "title_cell": "Table of Contents",
   "title_sidebar": "Contents",
   "toc_cell": false,
   "toc_position": {
    "height": "calc(100% - 180px)",
    "left": "10px",
    "top": "150px",
    "width": "244px"
   },
   "toc_section_display": true,
   "toc_window_display": true
  }
 },
 "nbformat": 4,
 "nbformat_minor": 1
}
