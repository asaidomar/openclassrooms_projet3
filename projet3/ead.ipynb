{
 "cells": [
  {
   "cell_type": "code",
   "execution_count": 29,
   "outputs": [],
   "source": [
    "import pandas as pd\n",
    "from  pathlib import Path\n",
    "\n",
    "import projet3\n",
    "\n",
    "data_folder = Path(projet3.__file__).with_name(\"data\")\n",
    "results_folder = Path(projet3.__file__).with_name(\"results\")\n",
    "data = data_folder / \"en.openfoodfacts.org.products.csv\"\n",
    "\n",
    "data_df = pd.read_csv(data.as_posix(), sep=\"\\t\")"
   ],
   "metadata": {
    "collapsed": false,
    "pycharm": {
     "name": "#%%\n",
     "is_executing": false
    }
   }
  },
  {
   "cell_type": "code",
   "execution_count": 30,
   "outputs": [
    {
     "name": "stdout",
     "text": [
      "<class 'pandas.core.frame.DataFrame'>\nRangeIndex: 1009071 entries, 0 to 1009070\nData columns (total 175 columns):\ncode                                          1009071 non-null object\nurl                                           1009071 non-null object\ncreator                                       1009068 non-null object\ncreated_t                                     1009071 non-null int64\ncreated_datetime                              1009070 non-null object\nlast_modified_t                               1009071 non-null int64\nlast_modified_datetime                        1009071 non-null object\nproduct_name                                  959819 non-null object\ngeneric_name                                  92125 non-null object\nquantity                                      316407 non-null object\npackaging                                     186416 non-null object\npackaging_tags                                186410 non-null object\nbrands                                        594578 non-null object\nbrands_tags                                   594529 non-null object\ncategories                                    372411 non-null object\ncategories_tags                               372407 non-null object\ncategories_en                                 372407 non-null object\norigins                                       54733 non-null object\norigins_tags                                  54635 non-null object\nmanufacturing_places                          85640 non-null object\nmanufacturing_places_tags                     85606 non-null object\nlabels                                        197485 non-null object\nlabels_tags                                   197509 non-null object\nlabels_en                                     197509 non-null object\nemb_codes                                     65670 non-null object\nemb_codes_tags                                65642 non-null object\nfirst_packaging_code_geo                      41909 non-null object\ncities                                        0 non-null float64\ncities_tags                                   44974 non-null object\npurchase_places                               122564 non-null object\nstores                                        179725 non-null object\ncountries                                     1007332 non-null object\ncountries_tags                                1007331 non-null object\ncountries_en                                  1007331 non-null object\ningredients_text                              447532 non-null object\nallergens                                     82970 non-null object\nallergens_en                                  0 non-null float64\ntraces                                        63253 non-null object\ntraces_tags                                   81549 non-null object\ntraces_en                                     81549 non-null object\nserving_size                                  277610 non-null object\nserving_quantity                              277726 non-null float64\nno_nutriments                                 0 non-null float64\nadditives_n                                   447410 non-null float64\nadditives                                     30 non-null object\nadditives_tags                                243558 non-null object\nadditives_en                                  243558 non-null object\ningredients_from_palm_oil_n                   447410 non-null float64\ningredients_from_palm_oil                     0 non-null float64\ningredients_from_palm_oil_tags                12078 non-null object\ningredients_that_may_be_from_palm_oil_n       447410 non-null float64\ningredients_that_may_be_from_palm_oil         0 non-null float64\ningredients_that_may_be_from_palm_oil_tags    26247 non-null object\nnutrition_grade_fr                            286064 non-null object\nnova_group                                    321468 non-null float64\npnns_groups_1                                 998490 non-null object\npnns_groups_2                                 1008689 non-null object\nstates                                        1009071 non-null object\nstates_tags                                   1009071 non-null object\nstates_en                                     1009071 non-null object\nmain_category                                 372339 non-null object\nmain_category_en                              372339 non-null object\nimage_url                                     743190 non-null object\nimage_small_url                               743190 non-null object\nimage_ingredients_url                         582201 non-null object\nimage_ingredients_small_url                   582201 non-null object\nimage_nutrition_url                           332183 non-null object\nimage_nutrition_small_url                     332183 non-null object\nenergy_100g                                   809202 non-null float64\nenergy-from-fat_100g                          951 non-null float64\nfat_100g                                      804455 non-null float64\nsaturated-fat_100g                            774831 non-null float64\n-butyric-acid_100g                            1 non-null float64\n-caproic-acid_100g                            0 non-null float64\n-caprylic-acid_100g                           1 non-null float64\n-capric-acid_100g                             4 non-null float64\n-lauric-acid_100g                             7 non-null float64\n-myristic-acid_100g                           1 non-null float64\n-palmitic-acid_100g                           3 non-null float64\n-stearic-acid_100g                            1 non-null float64\n-arachidic-acid_100g                          2 non-null float64\n-behenic-acid_100g                            1 non-null float64\n-lignoceric-acid_100g                         0 non-null float64\n-cerotic-acid_100g                            3 non-null float64\n-montanic-acid_100g                           1 non-null float64\n-melissic-acid_100g                           0 non-null float64\nmonounsaturated-fat_100g                      24363 non-null float64\npolyunsaturated-fat_100g                      24414 non-null float64\nomega-3-fat_100g                              1542 non-null float64\n-alpha-linolenic-acid_100g                    296 non-null float64\n-eicosapentaenoic-acid_100g                   98 non-null float64\n-docosahexaenoic-acid_100g                    132 non-null float64\nomega-6-fat_100g                              371 non-null float64\n-linoleic-acid_100g                           199 non-null float64\n-arachidonic-acid_100g                        15 non-null float64\n-gamma-linolenic-acid_100g                    3 non-null float64\n-dihomo-gamma-linolenic-acid_100g             1 non-null float64\nomega-9-fat_100g                              39 non-null float64\n-oleic-acid_100g                              21 non-null float64\n-elaidic-acid_100g                            0 non-null float64\n-gondoic-acid_100g                            0 non-null float64\n-mead-acid_100g                               0 non-null float64\n-erucic-acid_100g                             0 non-null float64\n-nervonic-acid_100g                           0 non-null float64\ntrans-fat_100g                                144334 non-null float64\ncholesterol_100g                              145126 non-null float64\ncarbohydrates_100g                            804412 non-null float64\nsugars_100g                                   790393 non-null float64\n-sucrose_100g                                 118 non-null float64\n-glucose_100g                                 48 non-null float64\n-fructose_100g                                68 non-null float64\n-lactose_100g                                 416 non-null float64\n-maltose_100g                                 9 non-null float64\n-maltodextrins_100g                           14 non-null float64\nstarch_100g                                   382 non-null float64\npolyols_100g                                  778 non-null float64\nfiber_100g                                    301311 non-null float64\nproteins_100g                                 806366 non-null float64\ncasein_100g                                   38 non-null float64\nserum-proteins_100g                           34 non-null float64\nnucleotides_100g                              12 non-null float64\nsalt_100g                                     786537 non-null float64\nsodium_100g                                   786486 non-null float64\nalcohol_100g                                  12373 non-null float64\nvitamin-a_100g                                139047 non-null float64\nbeta-carotene_100g                            69 non-null float64\nvitamin-d_100g                                8399 non-null float64\nvitamin-e_100g                                2467 non-null float64\nvitamin-k_100g                                1023 non-null float64\nvitamin-c_100g                                142610 non-null float64\nvitamin-b1_100g                               12363 non-null float64\nvitamin-b2_100g                               11837 non-null float64\nvitamin-pp_100g                               12648 non-null float64\nvitamin-b6_100g                               7883 non-null float64\nvitamin-b9_100g                               6040 non-null float64\nfolates_100g                                  3081 non-null float64\nvitamin-b12_100g                              6309 non-null float64\nbiotin_100g                                   562 non-null float64\npantothenic-acid_100g                         3019 non-null float64\nsilica_100g                                   100 non-null float64\nbicarbonate_100g                              265 non-null float64\npotassium_100g                                26148 non-null float64\nchloride_100g                                 508 non-null float64\ncalcium_100g                                  146049 non-null float64\nphosphorus_100g                               6734 non-null float64\niron_100g                                     142710 non-null float64\nmagnesium_100g                                7768 non-null float64\nzinc_100g                                     4563 non-null float64\ncopper_100g                                   2295 non-null float64\nmanganese_100g                                1864 non-null float64\nfluoride_100g                                 229 non-null float64\nselenium_100g                                 1329 non-null float64\nchromium_100g                                 58 non-null float64\nmolybdenum_100g                               60 non-null float64\niodine_100g                                   589 non-null float64\ncaffeine_100g                                 245 non-null float64\ntaurine_100g                                  92 non-null float64\nph_100g                                       142 non-null float64\nfruits-vegetables-nuts_100g                   5756 non-null float64\nfruits-vegetables-nuts-dried_100g             278 non-null float64\nfruits-vegetables-nuts-estimate_100g          10026 non-null float64\ncollagen-meat-protein-ratio_100g              286 non-null float64\ncocoa_100g                                    4495 non-null float64\nchlorophyl_100g                               2 non-null float64\ncarbon-footprint_100g                         405 non-null float64\ncarbon-footprint-from-meat-or-fish_100g       9260 non-null float64\nnutrition-score-fr_100g                       286063 non-null float64\nnutrition-score-uk_100g                       286063 non-null float64\nglycemic-index_100g                           3 non-null float64\nwater-hardness_100g                           0 non-null float64\ncholine_100g                                  31 non-null float64\nphylloquinone_100g                            4 non-null float64\nbeta-glucan_100g                              20 non-null float64\ninositol_100g                                 37 non-null float64\ncarnitine_100g                                15 non-null float64\ndtypes: float64(117), int64(2), object(56)\nmemory usage: 1.3+ GB\n"
     ],
     "output_type": "stream"
    }
   ],
   "source": [
    "data_df.info(verbose=True, null_counts=True)"
   ],
   "metadata": {
    "collapsed": false,
    "pycharm": {
     "name": "#%%\n",
     "is_executing": false
    }
   }
  },
  {
   "cell_type": "code",
   "execution_count": 31,
   "outputs": [
    {
     "data": {
      "text/plain": "          created_t  last_modified_t  cities  allergens_en  serving_quantity  \\\ncount  1.009071e+06     1.009071e+06     0.0           0.0      2.777260e+05   \nmean   1.518170e+09     1.540152e+09     NaN           NaN      4.000746e+16   \nstd    4.079759e+07     3.133868e+07     NaN           NaN      2.108382e+19   \nmin    0.000000e+00     1.333873e+09     NaN           NaN      0.000000e+00   \n25%    1.489092e+09     1.525511e+09     NaN           NaN      2.800000e+01   \n50%    1.524652e+09     1.552073e+09     NaN           NaN      4.900000e+01   \n75%    1.550432e+09     1.563562e+09     NaN           NaN      1.130000e+02   \nmax    1.571790e+09     1.571790e+09     NaN           NaN      1.111111e+22   \n\n       no_nutriments    additives_n  ingredients_from_palm_oil_n  \\\ncount            0.0  447410.000000                447410.000000   \nmean             NaN       1.622586                     0.027311   \nstd              NaN       2.349561                     0.164923   \nmin              NaN       0.000000                     0.000000   \n25%              NaN       0.000000                     0.000000   \n50%              NaN       1.000000                     0.000000   \n75%              NaN       2.000000                     0.000000   \nmax              NaN      38.000000                     3.000000   \n\n       ingredients_from_palm_oil  ingredients_that_may_be_from_palm_oil_n  \\\ncount                        0.0                            447410.000000   \nmean                         NaN                                 0.071889   \nstd                          NaN                                 0.316584   \nmin                          NaN                                 0.000000   \n25%                          NaN                                 0.000000   \n50%                          NaN                                 0.000000   \n75%                          NaN                                 0.000000   \nmax                          NaN                                 6.000000   \n\n       ...  carbon-footprint-from-meat-or-fish_100g  nutrition-score-fr_100g  \\\ncount  ...                              9260.000000            286063.000000   \nmean   ...                               631.841741                 9.217144   \nstd    ...                              6860.797317                 8.809736   \nmin    ...                                 0.049000               -15.000000   \n25%    ...                               111.000000                 2.000000   \n50%    ...                               334.985000                10.000000   \n75%    ...                               617.125000                16.000000   \nmax    ...                            656298.600000                40.000000   \n\n       nutrition-score-uk_100g  glycemic-index_100g  water-hardness_100g  \\\ncount            286063.000000             3.000000                  0.0   \nmean                  8.978092            29.333333                  NaN   \nstd                   9.272649            15.011107                  NaN   \nmin                 -15.000000            14.000000                  NaN   \n25%                   1.000000            22.000000                  NaN   \n50%                   9.000000            30.000000                  NaN   \n75%                  17.000000            37.000000                  NaN   \nmax                  40.000000            44.000000                  NaN   \n\n       choline_100g  phylloquinone_100g  beta-glucan_100g  inositol_100g  \\\ncount     31.000000            4.000000          20.00000      37.000000   \nmean       0.069577            0.090034           4.76000       0.026241   \nstd        0.031724            0.179977           4.24145       0.027702   \nmin        0.008000            0.000016           0.40000       0.001350   \n25%        0.056500            0.000038           3.50000       0.006900   \n50%        0.069000            0.000060           4.00000       0.022000   \n75%        0.089000            0.090056           5.20000       0.027600   \nmax        0.130000            0.360000          21.50000       0.150000   \n\n       carnitine_100g  \ncount       15.000000  \nmean         0.046147  \nstd          0.145485  \nmin          0.006500  \n25%          0.007050  \n50%          0.008500  \n75%          0.011000  \nmax          0.572000  \n\n[8 rows x 119 columns]",
      "text/html": "<div>\n<style scoped>\n    .dataframe tbody tr th:only-of-type {\n        vertical-align: middle;\n    }\n\n    .dataframe tbody tr th {\n        vertical-align: top;\n    }\n\n    .dataframe thead th {\n        text-align: right;\n    }\n</style>\n<table border=\"1\" class=\"dataframe\">\n  <thead>\n    <tr style=\"text-align: right;\">\n      <th></th>\n      <th>created_t</th>\n      <th>last_modified_t</th>\n      <th>cities</th>\n      <th>allergens_en</th>\n      <th>serving_quantity</th>\n      <th>no_nutriments</th>\n      <th>additives_n</th>\n      <th>ingredients_from_palm_oil_n</th>\n      <th>ingredients_from_palm_oil</th>\n      <th>ingredients_that_may_be_from_palm_oil_n</th>\n      <th>...</th>\n      <th>carbon-footprint-from-meat-or-fish_100g</th>\n      <th>nutrition-score-fr_100g</th>\n      <th>nutrition-score-uk_100g</th>\n      <th>glycemic-index_100g</th>\n      <th>water-hardness_100g</th>\n      <th>choline_100g</th>\n      <th>phylloquinone_100g</th>\n      <th>beta-glucan_100g</th>\n      <th>inositol_100g</th>\n      <th>carnitine_100g</th>\n    </tr>\n  </thead>\n  <tbody>\n    <tr>\n      <th>count</th>\n      <td>1.009071e+06</td>\n      <td>1.009071e+06</td>\n      <td>0.0</td>\n      <td>0.0</td>\n      <td>2.777260e+05</td>\n      <td>0.0</td>\n      <td>447410.000000</td>\n      <td>447410.000000</td>\n      <td>0.0</td>\n      <td>447410.000000</td>\n      <td>...</td>\n      <td>9260.000000</td>\n      <td>286063.000000</td>\n      <td>286063.000000</td>\n      <td>3.000000</td>\n      <td>0.0</td>\n      <td>31.000000</td>\n      <td>4.000000</td>\n      <td>20.00000</td>\n      <td>37.000000</td>\n      <td>15.000000</td>\n    </tr>\n    <tr>\n      <th>mean</th>\n      <td>1.518170e+09</td>\n      <td>1.540152e+09</td>\n      <td>NaN</td>\n      <td>NaN</td>\n      <td>4.000746e+16</td>\n      <td>NaN</td>\n      <td>1.622586</td>\n      <td>0.027311</td>\n      <td>NaN</td>\n      <td>0.071889</td>\n      <td>...</td>\n      <td>631.841741</td>\n      <td>9.217144</td>\n      <td>8.978092</td>\n      <td>29.333333</td>\n      <td>NaN</td>\n      <td>0.069577</td>\n      <td>0.090034</td>\n      <td>4.76000</td>\n      <td>0.026241</td>\n      <td>0.046147</td>\n    </tr>\n    <tr>\n      <th>std</th>\n      <td>4.079759e+07</td>\n      <td>3.133868e+07</td>\n      <td>NaN</td>\n      <td>NaN</td>\n      <td>2.108382e+19</td>\n      <td>NaN</td>\n      <td>2.349561</td>\n      <td>0.164923</td>\n      <td>NaN</td>\n      <td>0.316584</td>\n      <td>...</td>\n      <td>6860.797317</td>\n      <td>8.809736</td>\n      <td>9.272649</td>\n      <td>15.011107</td>\n      <td>NaN</td>\n      <td>0.031724</td>\n      <td>0.179977</td>\n      <td>4.24145</td>\n      <td>0.027702</td>\n      <td>0.145485</td>\n    </tr>\n    <tr>\n      <th>min</th>\n      <td>0.000000e+00</td>\n      <td>1.333873e+09</td>\n      <td>NaN</td>\n      <td>NaN</td>\n      <td>0.000000e+00</td>\n      <td>NaN</td>\n      <td>0.000000</td>\n      <td>0.000000</td>\n      <td>NaN</td>\n      <td>0.000000</td>\n      <td>...</td>\n      <td>0.049000</td>\n      <td>-15.000000</td>\n      <td>-15.000000</td>\n      <td>14.000000</td>\n      <td>NaN</td>\n      <td>0.008000</td>\n      <td>0.000016</td>\n      <td>0.40000</td>\n      <td>0.001350</td>\n      <td>0.006500</td>\n    </tr>\n    <tr>\n      <th>25%</th>\n      <td>1.489092e+09</td>\n      <td>1.525511e+09</td>\n      <td>NaN</td>\n      <td>NaN</td>\n      <td>2.800000e+01</td>\n      <td>NaN</td>\n      <td>0.000000</td>\n      <td>0.000000</td>\n      <td>NaN</td>\n      <td>0.000000</td>\n      <td>...</td>\n      <td>111.000000</td>\n      <td>2.000000</td>\n      <td>1.000000</td>\n      <td>22.000000</td>\n      <td>NaN</td>\n      <td>0.056500</td>\n      <td>0.000038</td>\n      <td>3.50000</td>\n      <td>0.006900</td>\n      <td>0.007050</td>\n    </tr>\n    <tr>\n      <th>50%</th>\n      <td>1.524652e+09</td>\n      <td>1.552073e+09</td>\n      <td>NaN</td>\n      <td>NaN</td>\n      <td>4.900000e+01</td>\n      <td>NaN</td>\n      <td>1.000000</td>\n      <td>0.000000</td>\n      <td>NaN</td>\n      <td>0.000000</td>\n      <td>...</td>\n      <td>334.985000</td>\n      <td>10.000000</td>\n      <td>9.000000</td>\n      <td>30.000000</td>\n      <td>NaN</td>\n      <td>0.069000</td>\n      <td>0.000060</td>\n      <td>4.00000</td>\n      <td>0.022000</td>\n      <td>0.008500</td>\n    </tr>\n    <tr>\n      <th>75%</th>\n      <td>1.550432e+09</td>\n      <td>1.563562e+09</td>\n      <td>NaN</td>\n      <td>NaN</td>\n      <td>1.130000e+02</td>\n      <td>NaN</td>\n      <td>2.000000</td>\n      <td>0.000000</td>\n      <td>NaN</td>\n      <td>0.000000</td>\n      <td>...</td>\n      <td>617.125000</td>\n      <td>16.000000</td>\n      <td>17.000000</td>\n      <td>37.000000</td>\n      <td>NaN</td>\n      <td>0.089000</td>\n      <td>0.090056</td>\n      <td>5.20000</td>\n      <td>0.027600</td>\n      <td>0.011000</td>\n    </tr>\n    <tr>\n      <th>max</th>\n      <td>1.571790e+09</td>\n      <td>1.571790e+09</td>\n      <td>NaN</td>\n      <td>NaN</td>\n      <td>1.111111e+22</td>\n      <td>NaN</td>\n      <td>38.000000</td>\n      <td>3.000000</td>\n      <td>NaN</td>\n      <td>6.000000</td>\n      <td>...</td>\n      <td>656298.600000</td>\n      <td>40.000000</td>\n      <td>40.000000</td>\n      <td>44.000000</td>\n      <td>NaN</td>\n      <td>0.130000</td>\n      <td>0.360000</td>\n      <td>21.50000</td>\n      <td>0.150000</td>\n      <td>0.572000</td>\n    </tr>\n  </tbody>\n</table>\n<p>8 rows × 119 columns</p>\n</div>"
     },
     "metadata": {},
     "output_type": "execute_result",
     "execution_count": 31
    }
   ],
   "source": [
    "data_df.describe()"
   ],
   "metadata": {
    "collapsed": false,
    "pycharm": {
     "name": "#%%\n",
     "is_executing": false
    }
   }
  },
  {
   "cell_type": "code",
   "execution_count": 32,
   "outputs": [
    {
     "data": {
      "text/plain": "            code                                                url   creator  \\\n0  0000000000017  http://world-en.openfoodfacts.org/product/0000...   kiliweb   \n1  0000000000031  http://world-en.openfoodfacts.org/product/0000...  isagoofy   \n\n    created_t      created_datetime  last_modified_t last_modified_datetime  \\\n0  1529059080  2018-06-15T10:38:00Z       1561463718   2019-06-25T11:55:18Z   \n1  1539464774  2018-10-13T21:06:14Z       1539464817   2018-10-13T21:06:57Z   \n\n       product_name generic_name quantity  ...  \\\n0  Vitória crackers          NaN      NaN  ...   \n1             Cacao          NaN    130 g  ...   \n\n  carbon-footprint-from-meat-or-fish_100g nutrition-score-fr_100g  \\\n0                                     NaN                     NaN   \n1                                     NaN                     NaN   \n\n  nutrition-score-uk_100g glycemic-index_100g water-hardness_100g  \\\n0                     NaN                 NaN                 NaN   \n1                     NaN                 NaN                 NaN   \n\n  choline_100g phylloquinone_100g beta-glucan_100g inositol_100g  \\\n0          NaN                NaN              NaN           NaN   \n1          NaN                NaN              NaN           NaN   \n\n  carnitine_100g  \n0            NaN  \n1            NaN  \n\n[2 rows x 175 columns]",
      "text/html": "<div>\n<style scoped>\n    .dataframe tbody tr th:only-of-type {\n        vertical-align: middle;\n    }\n\n    .dataframe tbody tr th {\n        vertical-align: top;\n    }\n\n    .dataframe thead th {\n        text-align: right;\n    }\n</style>\n<table border=\"1\" class=\"dataframe\">\n  <thead>\n    <tr style=\"text-align: right;\">\n      <th></th>\n      <th>code</th>\n      <th>url</th>\n      <th>creator</th>\n      <th>created_t</th>\n      <th>created_datetime</th>\n      <th>last_modified_t</th>\n      <th>last_modified_datetime</th>\n      <th>product_name</th>\n      <th>generic_name</th>\n      <th>quantity</th>\n      <th>...</th>\n      <th>carbon-footprint-from-meat-or-fish_100g</th>\n      <th>nutrition-score-fr_100g</th>\n      <th>nutrition-score-uk_100g</th>\n      <th>glycemic-index_100g</th>\n      <th>water-hardness_100g</th>\n      <th>choline_100g</th>\n      <th>phylloquinone_100g</th>\n      <th>beta-glucan_100g</th>\n      <th>inositol_100g</th>\n      <th>carnitine_100g</th>\n    </tr>\n  </thead>\n  <tbody>\n    <tr>\n      <th>0</th>\n      <td>0000000000017</td>\n      <td>http://world-en.openfoodfacts.org/product/0000...</td>\n      <td>kiliweb</td>\n      <td>1529059080</td>\n      <td>2018-06-15T10:38:00Z</td>\n      <td>1561463718</td>\n      <td>2019-06-25T11:55:18Z</td>\n      <td>Vitória crackers</td>\n      <td>NaN</td>\n      <td>NaN</td>\n      <td>...</td>\n      <td>NaN</td>\n      <td>NaN</td>\n      <td>NaN</td>\n      <td>NaN</td>\n      <td>NaN</td>\n      <td>NaN</td>\n      <td>NaN</td>\n      <td>NaN</td>\n      <td>NaN</td>\n      <td>NaN</td>\n    </tr>\n    <tr>\n      <th>1</th>\n      <td>0000000000031</td>\n      <td>http://world-en.openfoodfacts.org/product/0000...</td>\n      <td>isagoofy</td>\n      <td>1539464774</td>\n      <td>2018-10-13T21:06:14Z</td>\n      <td>1539464817</td>\n      <td>2018-10-13T21:06:57Z</td>\n      <td>Cacao</td>\n      <td>NaN</td>\n      <td>130 g</td>\n      <td>...</td>\n      <td>NaN</td>\n      <td>NaN</td>\n      <td>NaN</td>\n      <td>NaN</td>\n      <td>NaN</td>\n      <td>NaN</td>\n      <td>NaN</td>\n      <td>NaN</td>\n      <td>NaN</td>\n      <td>NaN</td>\n    </tr>\n  </tbody>\n</table>\n<p>2 rows × 175 columns</p>\n</div>"
     },
     "metadata": {},
     "output_type": "execute_result",
     "execution_count": 32
    }
   ],
   "source": [
    "data_df.head(2)\n"
   ],
   "metadata": {
    "collapsed": false,
    "pycharm": {
     "name": "#%%\n",
     "is_executing": false
    }
   }
  },
  {
   "cell_type": "code",
   "execution_count": 33,
   "outputs": [
    {
     "name": "stdout",
     "text": [
      "code 100.0\n",
      "url 100.0\n",
      "creator 99.99970269683699\n",
      "created_t 100.0\n",
      "created_datetime 99.99990089894565\n",
      "last_modified_t 100.0\n",
      "last_modified_datetime 100.0\n",
      "product_name 95.11907487183755\n",
      "generic_name 9.129684630714786\n",
      "quantity 31.3562672993278\n",
      "packaging 18.4740221451216\n",
      "packaging_tags 18.473427538795587\n",
      "brands 58.92330668505982\n",
      "brands_tags 58.91845073339736\n",
      "categories 36.9063227463677\n",
      "categories_tags 36.90592634215035\n",
      "categories_en 36.90592634215035\norigins 5.424098006978697\n",
      "origins_tags 5.414386103653756\n",
      "manufacturing_places 8.487014293345068\n",
      "manufacturing_places_tags 8.483644857497639\n",
      "labels 19.57097171556808\n",
      "labels_tags 19.573350140872147\n",
      "labels_en 19.573350140872147\nemb_codes 6.507966238252809\n",
      "emb_codes_tags 6.505191408731398\nfirst_packaging_code_geo 4.153226086172331\ncities 0.0\n",
      "cities_tags 4.456970817712529\n",
      "purchase_places 12.146221623651854\n",
      "stores 17.81093699055864\n",
      "countries 99.82766326650949\n",
      "countries_tags 99.82756416545516\n",
      "countries_en 99.82756416545516\n",
      "ingredients_text 44.35089304915115\nallergens 8.222414478267634\nallergens_en 0.0\n",
      "traces 6.268438989922413\ntraces_tags 8.081591880056012\n",
      "traces_en 8.081591880056012\n",
      "serving_size 27.511443694249465\n",
      "serving_quantity 27.522939416552454\nno_nutriments 0.0\n",
      "additives_n 44.33880272052214\nadditives 0.0029730316300835124\n",
      "additives_tags 24.136854591996006\n",
      "additives_en 24.136854591996006\n",
      "ingredients_from_palm_oil_n 44.33880272052214\ningredients_from_palm_oil 0.0\ningredients_from_palm_oil_tags 1.196942534271622\n",
      "ingredients_that_may_be_from_palm_oil_n 44.33880272052214\ningredients_that_may_be_from_palm_oil 0.0\ningredients_that_may_be_from_palm_oil_tags 2.601105373160065\n",
      "nutrition_grade_fr 28.349244007607\n",
      "nova_group 31.857817735322886\n",
      "pnns_groups_1 98.95141174406955\n",
      "pnns_groups_2 99.96214339724361\n",
      "states 100.0\n",
      "states_tags 100.0\n",
      "states_en 100.0\n",
      "main_category 36.899187470455495\n",
      "main_category_en 36.899187470455495\n",
      "image_url 73.65091257205886\n",
      "image_small_url 73.65091257205886\n",
      "image_ingredients_url 57.696732935541704\n",
      "image_ingredients_small_url 57.696732935541704\n",
      "image_nutrition_url 32.91968553253438\n",
      "image_nutrition_small_url 32.91968553253438\n",
      "energy_100g 80.1927713708946\nenergy-from-fat_100g 0.09424510267364734\n",
      "fat_100g 79.72233866596106\n",
      "saturated-fat_100g 76.78656903230794\n-butyric-acid_100g 9.910105433611708e-05\n-caproic-acid_100g 0.0\n-caprylic-acid_100g 9.910105433611708e-05\n-capric-acid_100g 0.0003964042173444683\n-lauric-acid_100g 0.0006937073803528196\n-myristic-acid_100g 9.910105433611708e-05\n-palmitic-acid_100g 0.00029730316300835124\n-stearic-acid_100g 9.910105433611708e-05\n-arachidic-acid_100g 0.00019820210867223416\n-behenic-acid_100g 9.910105433611708e-05\n-lignoceric-acid_100g 0.0\n-cerotic-acid_100g 0.00029730316300835124\n-montanic-acid_100g 9.910105433611708e-05\n-melissic-acid_100g 0.0\nmonounsaturated-fat_100g 2.4143989867908204\npolyunsaturated-fat_100g 2.4194531405619624\nomega-3-fat_100g 0.15281382578629252\n-alpha-linolenic-acid_100g 0.02933391208349066\n-eicosapentaenoic-acid_100g 0.009711903324939474\n-docosahexaenoic-acid_100g 0.013081339172367454\nomega-6-fat_100g 0.03676649115869944\n-linoleic-acid_100g 0.0197211098128873\n-arachidonic-acid_100g 0.0014865158150417562\n-gamma-linolenic-acid_100g 0.00029730316300835124\n-dihomo-gamma-linolenic-acid_100g 9.910105433611708e-05\nomega-9-fat_100g 0.003864941119108566\n-oleic-acid_100g 0.0020811221410584587\n-elaidic-acid_100g 0.0\n",
      "-gondoic-acid_100g 0.0\n-mead-acid_100g 0.0\n-erucic-acid_100g 0.0\n-nervonic-acid_100g 0.0\n",
      "trans-fat_100g 14.303651576549123\n",
      "cholesterol_100g 14.382139611583328\n",
      "carbohydrates_100g 79.71807732062462\n",
      "sugars_100g 78.32877963988659\n-sucrose_100g 0.011693924411661815\n-glucose_100g 0.00475685060813362\n-fructose_100g 0.006738871694855961\n-lactose_100g 0.041226038603824705\n-maltose_100g 0.0008919094890250537\n-maltodextrins_100g 0.0013874147607056391\nstarch_100g 0.037856602756396726\npolyols_100g 0.0771006202734991\n",
      "fiber_100g 29.860237783069778\n",
      "proteins_100g 79.9117207807974\ncasein_100g 0.0037658400647724495\nserum-proteins_100g 0.0033694358474279807\nnucleotides_100g 0.001189212652033405\n",
      "salt_100g 77.94664597436652\n",
      "sodium_100g 77.94159182059538\nalcohol_100g 1.2261773453007767\n",
      "vitamin-a_100g 13.779704302274071\nbeta-carotene_100g 0.006837972749192078\nvitamin-d_100g 0.8323497553690474\nvitamin-e_100g 0.24448230104720084\nvitamin-k_100g 0.10138037858584777\n",
      "vitamin-c_100g 14.132801358873657\nvitamin-b1_100g 1.2251863347574155\nvitamin-b2_100g 1.173059180176618\nvitamin-pp_100g 1.253430135243209\nvitamin-b6_100g 0.7812136113316109\n",
      "vitamin-b9_100g 0.5985703681901472\nfolates_100g 0.30533034840957674\nvitamin-b12_100g 0.6252285518065627\nbiotin_100g 0.0556947925368978\npantothenic-acid_100g 0.29918608304073746\nsilica_100g 0.009910105433611708\nbicarbonate_100g 0.02626177939907103\n",
      "potassium_100g 2.5912943687807894\nchloride_100g 0.05034333560274748\n",
      "calcium_100g 14.473609884735565\nphosphorus_100g 0.6673464998994124\n",
      "iron_100g 14.14271146430727\nmagnesium_100g 0.7698169900829575\nzinc_100g 0.4521981109357022\ncopper_100g 0.2274369197013887\nmanganese_100g 0.18472436528252223\nfluoride_100g 0.02269414144297081\nselenium_100g 0.1317053012126996\nchromium_100g 0.005747861151494791\nmolybdenum_100g 0.005946063260167025\niodine_100g 0.05837052100397296\ncaffeine_100g 0.024279758312348687\ntaurine_100g 0.009117296998922771\nph_100g 0.014072349715728625\nfruits-vegetables-nuts_100g 0.5704256687586899\n",
      "fruits-vegetables-nuts-dried_100g 0.027550093105440546\nfruits-vegetables-nuts-estimate_100g 0.9935871707739099\ncollagen-meat-protein-ratio_100g 0.028342901540129486\ncocoa_100g 0.4454592392408463\nchlorophyl_100g 0.00019820210867223416\ncarbon-footprint_100g 0.04013592700612742\ncarbon-footprint-from-meat-or-fish_100g 0.9176757631524441\n",
      "nutrition-score-fr_100g 28.34914490655266\n",
      "nutrition-score-uk_100g 28.34914490655266\nglycemic-index_100g 0.00029730316300835124\nwater-hardness_100g 0.0\ncholine_100g 0.0030721326844196295\nphylloquinone_100g 0.0003964042173444683\nbeta-glucan_100g 0.0019820210867223416\ninositol_100g 0.0036667390104363324\ncarnitine_100g 0.0014865158150417562\n"
     ],
     "output_type": "stream"
    }
   ],
   "source": [
    "completude_dict = {\"Column\": [], \"Completude\": []}\n",
    "# completiude par colonne\n",
    "for c in data_df.columns:\n",
    "    per_cent = len(data_df[~data_df[c].isnull()])/len(data_df)*100\n",
    "    print(c, per_cent)\n",
    "    completude_dict[\"Column\"].append(c)\n",
    "    completude_dict[\"Completude\"].append(per_cent)\n",
    "    "
   ],
   "metadata": {
    "collapsed": false,
    "pycharm": {
     "name": "#%%\n",
     "is_executing": false
    }
   }
  },
  {
   "cell_type": "code",
   "execution_count": 34,
   "outputs": [],
   "source": [
    "completude_df = pd.DataFrame(completude_dict)\n",
    "completude_df.to_csv(results_folder.joinpath(\"completude_columns.csv\").as_posix())"
   ],
   "metadata": {
    "collapsed": false,
    "pycharm": {
     "name": "#%%\n",
     "is_executing": false
    }
   }
  },
  {
   "cell_type": "code",
   "execution_count": 35,
   "outputs": [
    {
     "data": {
      "text/plain": "                 Column  Completude\n0                  code  100.000000\n1                   url  100.000000\n2               creator   99.999703\n3             created_t  100.000000\n4      created_datetime   99.999901\n..                  ...         ...\n170        choline_100g    0.003072\n171  phylloquinone_100g    0.000396\n172    beta-glucan_100g    0.001982\n173       inositol_100g    0.003667\n174      carnitine_100g    0.001487\n\n[175 rows x 2 columns]",
      "text/html": "<div>\n<style scoped>\n    .dataframe tbody tr th:only-of-type {\n        vertical-align: middle;\n    }\n\n    .dataframe tbody tr th {\n        vertical-align: top;\n    }\n\n    .dataframe thead th {\n        text-align: right;\n    }\n</style>\n<table border=\"1\" class=\"dataframe\">\n  <thead>\n    <tr style=\"text-align: right;\">\n      <th></th>\n      <th>Column</th>\n      <th>Completude</th>\n    </tr>\n  </thead>\n  <tbody>\n    <tr>\n      <th>0</th>\n      <td>code</td>\n      <td>100.000000</td>\n    </tr>\n    <tr>\n      <th>1</th>\n      <td>url</td>\n      <td>100.000000</td>\n    </tr>\n    <tr>\n      <th>2</th>\n      <td>creator</td>\n      <td>99.999703</td>\n    </tr>\n    <tr>\n      <th>3</th>\n      <td>created_t</td>\n      <td>100.000000</td>\n    </tr>\n    <tr>\n      <th>4</th>\n      <td>created_datetime</td>\n      <td>99.999901</td>\n    </tr>\n    <tr>\n      <th>...</th>\n      <td>...</td>\n      <td>...</td>\n    </tr>\n    <tr>\n      <th>170</th>\n      <td>choline_100g</td>\n      <td>0.003072</td>\n    </tr>\n    <tr>\n      <th>171</th>\n      <td>phylloquinone_100g</td>\n      <td>0.000396</td>\n    </tr>\n    <tr>\n      <th>172</th>\n      <td>beta-glucan_100g</td>\n      <td>0.001982</td>\n    </tr>\n    <tr>\n      <th>173</th>\n      <td>inositol_100g</td>\n      <td>0.003667</td>\n    </tr>\n    <tr>\n      <th>174</th>\n      <td>carnitine_100g</td>\n      <td>0.001487</td>\n    </tr>\n  </tbody>\n</table>\n<p>175 rows × 2 columns</p>\n</div>"
     },
     "metadata": {},
     "output_type": "execute_result",
     "execution_count": 35
    }
   ],
   "source": [
    "completude_df"
   ],
   "metadata": {
    "collapsed": false,
    "pycharm": {
     "name": "#%%\n",
     "is_executing": false
    }
   }
  },
  {
   "cell_type": "code",
   "execution_count": 36,
   "outputs": [
    {
     "data": {
      "text/plain": "                     Column  Completude\n0                      code  100.000000\n1                       url  100.000000\n2                   creator   99.999703\n3                 created_t  100.000000\n4          created_datetime   99.999901\n5           last_modified_t  100.000000\n6    last_modified_datetime  100.000000\n7              product_name   95.119075\n31                countries   99.827663\n32           countries_tags   99.827564\n33             countries_en   99.827564\n55            pnns_groups_1   98.951412\n56            pnns_groups_2   99.962143\n57                   states  100.000000\n58              states_tags  100.000000\n59                states_en  100.000000\n62                image_url   73.650913\n63          image_small_url   73.650913\n68              energy_100g   80.192771\n70                 fat_100g   79.722339\n71       saturated-fat_100g   76.786569\n106      carbohydrates_100g   79.718077\n107             sugars_100g   78.328780\n117           proteins_100g   79.911721\n121               salt_100g   77.946646\n122             sodium_100g   77.941592",
      "text/html": "<div>\n<style scoped>\n    .dataframe tbody tr th:only-of-type {\n        vertical-align: middle;\n    }\n\n    .dataframe tbody tr th {\n        vertical-align: top;\n    }\n\n    .dataframe thead th {\n        text-align: right;\n    }\n</style>\n<table border=\"1\" class=\"dataframe\">\n  <thead>\n    <tr style=\"text-align: right;\">\n      <th></th>\n      <th>Column</th>\n      <th>Completude</th>\n    </tr>\n  </thead>\n  <tbody>\n    <tr>\n      <th>0</th>\n      <td>code</td>\n      <td>100.000000</td>\n    </tr>\n    <tr>\n      <th>1</th>\n      <td>url</td>\n      <td>100.000000</td>\n    </tr>\n    <tr>\n      <th>2</th>\n      <td>creator</td>\n      <td>99.999703</td>\n    </tr>\n    <tr>\n      <th>3</th>\n      <td>created_t</td>\n      <td>100.000000</td>\n    </tr>\n    <tr>\n      <th>4</th>\n      <td>created_datetime</td>\n      <td>99.999901</td>\n    </tr>\n    <tr>\n      <th>5</th>\n      <td>last_modified_t</td>\n      <td>100.000000</td>\n    </tr>\n    <tr>\n      <th>6</th>\n      <td>last_modified_datetime</td>\n      <td>100.000000</td>\n    </tr>\n    <tr>\n      <th>7</th>\n      <td>product_name</td>\n      <td>95.119075</td>\n    </tr>\n    <tr>\n      <th>31</th>\n      <td>countries</td>\n      <td>99.827663</td>\n    </tr>\n    <tr>\n      <th>32</th>\n      <td>countries_tags</td>\n      <td>99.827564</td>\n    </tr>\n    <tr>\n      <th>33</th>\n      <td>countries_en</td>\n      <td>99.827564</td>\n    </tr>\n    <tr>\n      <th>55</th>\n      <td>pnns_groups_1</td>\n      <td>98.951412</td>\n    </tr>\n    <tr>\n      <th>56</th>\n      <td>pnns_groups_2</td>\n      <td>99.962143</td>\n    </tr>\n    <tr>\n      <th>57</th>\n      <td>states</td>\n      <td>100.000000</td>\n    </tr>\n    <tr>\n      <th>58</th>\n      <td>states_tags</td>\n      <td>100.000000</td>\n    </tr>\n    <tr>\n      <th>59</th>\n      <td>states_en</td>\n      <td>100.000000</td>\n    </tr>\n    <tr>\n      <th>62</th>\n      <td>image_url</td>\n      <td>73.650913</td>\n    </tr>\n    <tr>\n      <th>63</th>\n      <td>image_small_url</td>\n      <td>73.650913</td>\n    </tr>\n    <tr>\n      <th>68</th>\n      <td>energy_100g</td>\n      <td>80.192771</td>\n    </tr>\n    <tr>\n      <th>70</th>\n      <td>fat_100g</td>\n      <td>79.722339</td>\n    </tr>\n    <tr>\n      <th>71</th>\n      <td>saturated-fat_100g</td>\n      <td>76.786569</td>\n    </tr>\n    <tr>\n      <th>106</th>\n      <td>carbohydrates_100g</td>\n      <td>79.718077</td>\n    </tr>\n    <tr>\n      <th>107</th>\n      <td>sugars_100g</td>\n      <td>78.328780</td>\n    </tr>\n    <tr>\n      <th>117</th>\n      <td>proteins_100g</td>\n      <td>79.911721</td>\n    </tr>\n    <tr>\n      <th>121</th>\n      <td>salt_100g</td>\n      <td>77.946646</td>\n    </tr>\n    <tr>\n      <th>122</th>\n      <td>sodium_100g</td>\n      <td>77.941592</td>\n    </tr>\n  </tbody>\n</table>\n</div>"
     },
     "metadata": {},
     "output_type": "execute_result",
     "execution_count": 36
    }
   ],
   "source": [
    "completude_df[completude_df[\"Completude\"]>=70]"
   ],
   "metadata": {
    "collapsed": false,
    "pycharm": {
     "name": "#%% \n",
     "is_executing": false
    }
   }
  },
  {
   "cell_type": "code",
   "execution_count": 42,
   "outputs": [
    {
     "data": {
      "text/plain": "['code',\n 'url',\n 'creator',\n 'created_t',\n 'created_datetime',\n 'last_modified_t',\n 'last_modified_datetime',\n 'product_name',\n 'countries',\n 'countries_tags',\n 'countries_en',\n 'pnns_groups_1',\n 'pnns_groups_2',\n 'states',\n 'states_tags',\n 'states_en',\n 'image_url',\n 'image_small_url',\n 'energy_100g',\n 'fat_100g',\n 'saturated-fat_100g',\n 'carbohydrates_100g',\n 'sugars_100g',\n 'proteins_100g',\n 'salt_100g',\n 'sodium_100g']"
     },
     "metadata": {},
     "output_type": "execute_result",
     "execution_count": 42
    }
   ],
   "source": [
    "candidate_columns = completude_df[completude_df[\"Completude\"]>=70]\n",
    "list(candidate_columns[\"Column\"])"
   ],
   "metadata": {
    "collapsed": false,
    "pycharm": {
     "name": "#%%\n",
     "is_executing": false
    }
   }
  },
  {
   "cell_type": "code",
   "execution_count": 44,
   "outputs": [
    {
     "name": "stdout",
     "text": [
      "<class 'pandas.core.frame.DataFrame'>\nRangeIndex: 1009071 entries, 0 to 1009070\nData columns (total 26 columns):\ncode                      1009071 non-null object\nurl                       1009071 non-null object\ncreator                   1009068 non-null object\ncreated_t                 1009071 non-null int64\ncreated_datetime          1009070 non-null object\nlast_modified_t           1009071 non-null int64\nlast_modified_datetime    1009071 non-null object\nproduct_name              959819 non-null object\ncountries                 1007332 non-null object\ncountries_tags            1007331 non-null object\ncountries_en              1007331 non-null object\npnns_groups_1             998490 non-null object\npnns_groups_2             1008689 non-null object\nstates                    1009071 non-null object\nstates_tags               1009071 non-null object\nstates_en                 1009071 non-null object\nimage_url                 743190 non-null object\nimage_small_url           743190 non-null object\nenergy_100g               809202 non-null float64\nfat_100g                  804455 non-null float64\nsaturated-fat_100g        774831 non-null float64\ncarbohydrates_100g        804412 non-null float64\nsugars_100g               790393 non-null float64\nproteins_100g             806366 non-null float64\nsalt_100g                 786537 non-null float64\nsodium_100g               786486 non-null float64\ndtypes: float64(8), int64(2), object(16)\nmemory usage: 200.2+ MB\n"
     ],
     "output_type": "stream"
    }
   ],
   "source": [
    "# subset \n",
    "data_subset = data_df[list(candidate_columns[\"Column\"])]\n",
    "data_subset.info(verbose=True, null_counts=True)"
   ],
   "metadata": {
    "collapsed": false,
    "pycharm": {
     "name": "#%%\n",
     "is_executing": false
    }
   }
  },
  {
   "cell_type": "code",
   "execution_count": 45,
   "outputs": [],
   "source": [
    "data_subset.to_csv(results_folder.joinpath(\"subset_data.csv\"))\n",
    "\n",
    "\n"
   ],
   "metadata": {
    "collapsed": false,
    "pycharm": {
     "name": "#%% \n",
     "is_executing": false
    }
   }
  }
 ],
 "metadata": {
  "kernelspec": {
   "display_name": "Python 3",
   "language": "python",
   "name": "python3"
  },
  "language_info": {
   "codemirror_mode": {
    "name": "ipython",
    "version": 3
   },
   "file_extension": ".py",
   "mimetype": "text/x-python",
   "name": "python",
   "nbconvert_exporter": "python",
   "pygments_lexer": "ipython3",
   "version": "3.7.4"
  },
  "pycharm": {
   "stem_cell": {
    "cell_type": "raw",
    "source": [],
    "metadata": {
     "collapsed": false
    }
   }
  }
 },
 "nbformat": 4,
 "nbformat_minor": 1
}