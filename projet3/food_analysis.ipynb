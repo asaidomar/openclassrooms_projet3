{
 "cells": [
  {
   "cell_type": "code",
   "execution_count": 8,
   "metadata": {
    "collapsed": true,
    "pycharm": {
     "is_executing": false
    }
   },
   "outputs": [],
   "source": [
    "import numpy as np\n",
    "import pandas as pd\n",
    "import seaborn as sns\n",
    "import matplotlib.pyplot as plt\n",
    "import scipy.stats as st\n",
    "\n",
    "from  pathlib import Path\n",
    "import projet3\n",
    "\n",
    "\n",
    "def get_metrics(data, codes, columns):\n",
    "    sum_ = data[columns].sum()\n",
    "    return sum_\n",
    "    "
   ]
  },
  {
   "cell_type": "code",
   "execution_count": 2,
   "outputs": [],
   "source": [
    "# les colonnes retenues\n",
    "columns = ['fat_100g', 'saturated-fat_100g', 'sugars_100g', \n",
    "           'carbohydrates_100g', 'proteins_100g','salt_100g',  \n",
    "           'sodium_100g', 'calcium_100g', 'cholesterol_100g',\n",
    "           'trans-fat_100g', 'iron_100g', 'vitamin-c_100g','vitamin-a_100g']"
   ],
   "metadata": {
    "collapsed": false,
    "pycharm": {
     "name": "#%%\n",
     "is_executing": false
    }
   }
  },
  {
   "cell_type": "code",
   "execution_count": 3,
   "outputs": [
    {
     "name": "stderr",
     "text": [
      "/Users/alisaidomar/openclassroom_projet3/lib/python3.7/site-packages/IPython/core/interactiveshell.py:3058: DtypeWarning: Columns (0,24,25,26,28,44,49) have mixed types. Specify dtype option on import or set low_memory=False.\n  interactivity=interactivity, compiler=compiler, result=result)\n"
     ],
     "output_type": "stream"
    }
   ],
   "source": [
    "data_folder = Path(projet3.__file__).with_name(\"data\")\n",
    "results_folder = Path(projet3.__file__).with_name(\"results\")\n",
    "\n",
    "data = data_folder / \"en.openfoodfacts.org.products.csv\"\n",
    "data_df = pd.read_csv(data.as_posix(), sep=\"\\t\")"
   ],
   "metadata": {
    "collapsed": false,
    "pycharm": {
     "name": "#%%\n",
     "is_executing": false
    }
   }
  },
  {
   "cell_type": "code",
   "execution_count": 4,
   "outputs": [],
   "source": [
    "data_df.head(10)\n",
    "sample = data_df.sample(10)\n",
    "codes = sample[\"code\"]\n",
    "sum_ = sample.sum()"
   ],
   "metadata": {
    "collapsed": false,
    "pycharm": {
     "name": "#%%\n",
     "is_executing": false
    }
   }
  },
  {
   "cell_type": "markdown",
   "source": [
    "# Analyse de la composition d'un repas, composé de plusiuers produits"
   ],
   "metadata": {
    "collapsed": false
   }
  },
  {
   "cell_type": "code",
   "execution_count": 13,
   "outputs": [
    {
     "name": "stdout",
     "text": [
      "Index(['fat_100g', 'saturated-fat_100g', 'sugars_100g', 'carbohydrates_100g',\n       'proteins_100g', 'salt_100g', 'sodium_100g', 'calcium_100g',\n       'cholesterol_100g', 'trans-fat_100g', 'iron_100g', 'vitamin-c_100g',\n       'vitamin-a_100g'],\n      dtype='object')\n[9.33333333e-01 6.66666667e-03 9.00000000e-01 2.67333333e+01\n 4.33000000e+00 3.33333333e-03 1.33333333e-03 0.00000000e+00\n 0.00000000e+00 0.00000000e+00 0.00000000e+00 0.00000000e+00\n 0.00000000e+00]\n"
     ],
     "output_type": "stream"
    }
   ],
   "source": [
    "metrics = get_metrics(sample, codes=list(codes), columns=columns)\n",
    "\n",
    "print(metrics.index)\n",
    "print(metrics.values)\n"
   ],
   "metadata": {
    "collapsed": false,
    "pycharm": {
     "name": "#%%\n",
     "is_executing": false
    }
   }
  },
  {
   "cell_type": "code",
   "execution_count": 15,
   "outputs": [
    {
     "data": {
      "text/plain": "<matplotlib.axes._subplots.AxesSubplot at 0x12e2e6b50>"
     },
     "metadata": {},
     "output_type": "execute_result",
     "execution_count": 15
    },
    {
     "data": {
      "text/plain": "<Figure size 432x288 with 1 Axes>",
      "image/png": "[encoded data removed]"
     },
     "metadata": {},
     "output_type": "display_data"
    }
   ],
   "source": [
    "sns.set_color_codes(\"pastel\")\n",
    "sns.set(style=\"whitegrid\")\n",
    "sns.barplot(y=metrics.index, x=metrics.values)\n",
    "\n",
    "\n"
   ],
   "metadata": {
    "collapsed": false,
    "pycharm": {
     "name": "#%%\n",
     "is_executing": false
    }
   }
  }
 ],
 "metadata": {
  "language_info": {
   "codemirror_mode": {
    "name": "ipython",
    "version": 2
   },
   "file_extension": ".py",
   "mimetype": "text/x-python",
   "name": "python",
   "nbconvert_exporter": "python",
   "pygments_lexer": "ipython2",
   "version": "2.7.6"
  },
  "kernelspec": {
   "name": "python3",
   "language": "python",
   "display_name": "Python 3"
  },
  "pycharm": {
   "stem_cell": {
    "cell_type": "raw",
    "source": [],
    "metadata": {
     "collapsed": false
    }
   }
  }
 },
 "nbformat": 4,
 "nbformat_minor": 0
}