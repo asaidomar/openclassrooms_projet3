{
 "cells": [
  {
   "cell_type": "code",
   "execution_count": 2,
   "metadata": {
    "pycharm": {
     "is_executing": false,
     "name": "#%%\n"
    }
   },
   "outputs": [
    {
     "ename": "ModuleNotFoundError",
     "evalue": "No module named 'projet3'",
     "output_type": "error",
     "traceback": [
      "\u001b[0;31m---------------------------------------------------------------------------\u001b[0m",
      "\u001b[0;31mModuleNotFoundError\u001b[0m                       Traceback (most recent call last)",
      "\u001b[0;32m<ipython-input-2-fb13a0f2b160>\u001b[0m in \u001b[0;36m<module>\u001b[0;34m\u001b[0m\n\u001b[1;32m      4\u001b[0m \u001b[0;32mimport\u001b[0m \u001b[0mpandas\u001b[0m \u001b[0;32mas\u001b[0m \u001b[0mpd\u001b[0m\u001b[0;34m\u001b[0m\u001b[0;34m\u001b[0m\u001b[0m\n\u001b[1;32m      5\u001b[0m \u001b[0;34m\u001b[0m\u001b[0m\n\u001b[0;32m----> 6\u001b[0;31m \u001b[0;32mfrom\u001b[0m \u001b[0mprojet3\u001b[0m \u001b[0;32mimport\u001b[0m \u001b[0mutils\u001b[0m\u001b[0;34m\u001b[0m\u001b[0;34m\u001b[0m\u001b[0m\n\u001b[0m\u001b[1;32m      7\u001b[0m \u001b[0;32mfrom\u001b[0m \u001b[0mprojet3\u001b[0m \u001b[0;32mimport\u001b[0m \u001b[0mead\u001b[0m\u001b[0;34m\u001b[0m\u001b[0;34m\u001b[0m\u001b[0m\n",
      "\u001b[0;31mModuleNotFoundError\u001b[0m: No module named 'projet3'"
     ]
    }
   ],
   "source": [
    "import seaborn as sns\n",
    "import matplotlib.pyplot as plt\n",
    "import numpy as np\n",
    "import pandas as pd\n",
    "\n",
    "from projet3 import utils\n",
    "from projet3 import ead"
   ]
  },
  {
   "cell_type": "markdown",
   "metadata": {
    "pycharm": {
     "name": "#%% md\n"
    }
   },
   "source": [
    "# Qualités nutritionnelles d'un repas à destination des sportifs\n",
    "Pour un sportif être capable d'analyser la qualité de son repas et connaitre les\n",
    "proportions des différent marconutriments et/ou micronutriments.\n",
    "\n",
    "## Pré-ambule\n",
    "Depuis la source de données accessible à l'addresse https://static.openfoodfacts.org/data/en.openfoodfacts.org.products.csv, nous allons réaliser les tâches suivantes:\n",
    "1. Analyser la qualité de la données ; boulons, complétude.\n",
    "2. Analyse statisque univarié.\n",
    "3. Analyse statisque bivarié.\n",
    "4. Exploitation des données dans le but d'extraire les proportions en terme de macronutriments.\n"
   ]
  },
  {
   "cell_type": "markdown",
   "metadata": {
    "pycharm": {
     "name": "#%% md\n"
    }
   },
   "source": [
    "### 1. Analyse qualitative de la donnée\n"
   ]
  },
  {
   "cell_type": "markdown",
   "metadata": {
    "pycharm": {
     "name": "#%% md\n"
    }
   },
   "source": [
    "Version"
   ]
  },
  {
   "cell_type": "code",
   "execution_count": 3,
   "metadata": {
    "pycharm": {
     "is_executing": false,
     "name": "#%%\n"
    }
   },
   "outputs": [
    {
     "ename": "NameError",
     "evalue": "name 'utils' is not defined",
     "output_type": "error",
     "traceback": [
      "\u001b[0;31m---------------------------------------------------------------------------\u001b[0m",
      "\u001b[0;31mNameError\u001b[0m                                 Traceback (most recent call last)",
      "\u001b[0;32m<ipython-input-3-d71cb6f693f2>\u001b[0m in \u001b[0;36m<module>\u001b[0;34m\u001b[0m\n\u001b[0;32m----> 1\u001b[0;31m \u001b[0mutils\u001b[0m\u001b[0;34m.\u001b[0m\u001b[0mprint_version\u001b[0m\u001b[0;34m(\u001b[0m\u001b[0;34m)\u001b[0m\u001b[0;34m\u001b[0m\u001b[0;34m\u001b[0m\u001b[0m\n\u001b[0m",
      "\u001b[0;31mNameError\u001b[0m: name 'utils' is not defined"
     ]
    }
   ],
   "source": [
    "utils.print_version()"
   ]
  },
  {
   "cell_type": "code",
   "execution_count": 4,
   "metadata": {
    "pycharm": {
     "is_executing": false,
     "name": "#%%\n"
    },
    "scrolled": false
   },
   "outputs": [
    {
     "ename": "NameError",
     "evalue": "name 'ead' is not defined",
     "output_type": "error",
     "traceback": [
      "\u001b[0;31m---------------------------------------------------------------------------\u001b[0m",
      "\u001b[0;31mNameError\u001b[0m                                 Traceback (most recent call last)",
      "\u001b[0;32m<ipython-input-4-50985df50c9b>\u001b[0m in \u001b[0;36m<module>\u001b[0;34m\u001b[0m\n\u001b[1;32m      1\u001b[0m \u001b[0;31m# Donnée brut\u001b[0m\u001b[0;34m\u001b[0m\u001b[0;34m\u001b[0m\u001b[0;34m\u001b[0m\u001b[0m\n\u001b[0;32m----> 2\u001b[0;31m \u001b[0mdata_df\u001b[0m \u001b[0;34m=\u001b[0m \u001b[0mead\u001b[0m\u001b[0;34m.\u001b[0m\u001b[0mget_data\u001b[0m\u001b[0;34m(\u001b[0m\u001b[0;34m)\u001b[0m\u001b[0;34m\u001b[0m\u001b[0;34m\u001b[0m\u001b[0m\n\u001b[0m\u001b[1;32m      3\u001b[0m \u001b[0;34m\u001b[0m\u001b[0m\n\u001b[1;32m      4\u001b[0m \u001b[0;31m#Info\u001b[0m\u001b[0;34m\u001b[0m\u001b[0;34m\u001b[0m\u001b[0;34m\u001b[0m\u001b[0m\n\u001b[1;32m      5\u001b[0m \u001b[0;31m# les 10 premiere lignes\u001b[0m\u001b[0;34m\u001b[0m\u001b[0;34m\u001b[0m\u001b[0;34m\u001b[0m\u001b[0m\n",
      "\u001b[0;31mNameError\u001b[0m: name 'ead' is not defined"
     ]
    }
   ],
   "source": [
    "# Donnée brut\n",
    "data_df = ead.get_data()\n",
    "\n",
    "#Info\n",
    "# les 10 premiere lignes\n"
   ]
  },
  {
   "cell_type": "markdown",
   "metadata": {
    "pycharm": {
     "name": "#%% md\n"
    }
   },
   "source": [
    "Extrait du dataset"
   ]
  },
  {
   "cell_type": "code",
   "execution_count": null,
   "metadata": {
    "pycharm": {
     "is_executing": false,
     "name": "#%%\n"
    }
   },
   "outputs": [],
   "source": [
    "data_df.head(10)"
   ]
  },
  {
   "cell_type": "markdown",
   "metadata": {
    "pycharm": {
     "name": "#%% md\n"
    }
   },
   "source": [
    "Info complète du dataset"
   ]
  },
  {
   "cell_type": "code",
   "execution_count": null,
   "metadata": {
    "pycharm": {
     "is_executing": false,
     "name": "#%%\n"
    },
    "scrolled": false
   },
   "outputs": [],
   "source": [
    "data_df.info(verbose=True, null_counts=True)\n"
   ]
  },
  {
   "cell_type": "markdown",
   "metadata": {
    "pycharm": {
     "name": "#%% md\n"
    }
   },
   "source": [
    "Description"
   ]
  },
  {
   "cell_type": "code",
   "execution_count": null,
   "metadata": {
    "pycharm": {
     "is_executing": false,
     "name": "#%%\n"
    }
   },
   "outputs": [],
   "source": [
    "data_df.describe()\n"
   ]
  },
  {
   "cell_type": "markdown",
   "metadata": {
    "pycharm": {
     "name": "#%% md\n"
    }
   },
   "source": [
    "Les lignes en doublons"
   ]
  },
  {
   "cell_type": "code",
   "execution_count": null,
   "metadata": {
    "pycharm": {
     "is_executing": false,
     "name": "#%%\n"
    },
    "scrolled": false
   },
   "outputs": [],
   "source": [
    "data_df[data_df.duplicated()==True]"
   ]
  },
  {
   "cell_type": "markdown",
   "metadata": {
    "pycharm": {
     "name": "#%% md\n"
    }
   },
   "source": [
    "Complétude des colonnes"
   ]
  },
  {
   "cell_type": "code",
   "execution_count": null,
   "metadata": {
    "pycharm": {
     "is_executing": false,
     "name": "#%%\n"
    },
    "scrolled": true
   },
   "outputs": [],
   "source": [
    "completude_df = ead.get_columns_completude()"
   ]
  },
  {
   "cell_type": "code",
   "execution_count": null,
   "metadata": {
    "pycharm": {
     "is_executing": false,
     "name": "#%%\n"
    }
   },
   "outputs": [],
   "source": [
    "completude_gt_70 = completude_df[completude_df[\"Completude\"] >= 70.0]"
   ]
  },
  {
   "cell_type": "code",
   "execution_count": null,
   "metadata": {
    "pycharm": {
     "is_executing": false,
     "name": "#%%\n"
    }
   },
   "outputs": [],
   "source": [
    "completude_gt_70"
   ]
  },
  {
   "cell_type": "code",
   "execution_count": null,
   "metadata": {
    "pycharm": {
     "is_executing": false,
     "name": "#%%\n"
    }
   },
   "outputs": [],
   "source": [
    "print(f'Dimension {completude_gt_70.shape}')\n"
   ]
  },
  {
   "cell_type": "code",
   "execution_count": null,
   "metadata": {
    "pycharm": {
     "is_executing": false,
     "name": "#%%\n"
    }
   },
   "outputs": [],
   "source": [
    "completude_lt_001 = completude_df[completude_df[\"Completude\"] < 0.01]"
   ]
  },
  {
   "cell_type": "code",
   "execution_count": null,
   "metadata": {
    "pycharm": {
     "is_executing": false,
     "name": "#%%\n"
    }
   },
   "outputs": [],
   "source": [
    "completude_lt_001"
   ]
  },
  {
   "cell_type": "code",
   "execution_count": null,
   "metadata": {
    "pycharm": {
     "is_executing": false,
     "name": "#%%\n"
    }
   },
   "outputs": [],
   "source": [
    "print(f\"Dimension {completude_lt_001.shape}\")\n"
   ]
  },
  {
   "cell_type": "markdown",
   "metadata": {
    "pycharm": {
     "name": "#%% md\n"
    }
   },
   "source": [
    "#### Résultat\n",
    "Données issues de l'open data disponible gratuitement. Elle est composé de plus d'un million d'entrée et 175 colonnes:\n",
    "- pour 51 colonnes on dispose de moins des 0.01% des lignes de renseignées, ces colonnes peuvent être omises de notre analyse\n",
    "- pour 26 colonnes on dispose de plus de 70% des lignes de renseignées\n",
    "- 14 lignes sont en doublons\n",
    "- 119 colonnes correspondes à des données quantitative dont seulement 50 pour lesquels on dispose de plus de 1000 lignes (0.01% du volumes) de renseignées\n",
    "\n",
    "#### Conclusion\n",
    "Les premières analyses sont plutôt positives; on dispose de peu de doublons et on dispose de 26 colonnes pour lesquelles plus de 70% des lignes sont renseignées.\n",
    "\n",
    "\n",
    "### 2. Analyse statisque univariée\n",
    "Dans cette partie nous allons procéder à l'analyse univariée sur les colonnes retenues dans le cadre de notre analyse\n",
    "\n",
    "#### Choix des colonnes\n",
    "Dans un premier temps, sont retenues les colonnes pour lesquelles 70% de lignes sont remplies"
   ]
  },
  {
   "cell_type": "code",
   "execution_count": null,
   "metadata": {
    "pycharm": {
     "is_executing": false,
     "name": "#%%\n"
    }
   },
   "outputs": [],
   "source": [
    "completude_gt_70[\"Column\"]"
   ]
  },
  {
   "cell_type": "markdown",
   "metadata": {
    "pycharm": {
     "name": "#%% md\n"
    }
   },
   "source": [
    "Seules les colonnes\n",
    "```\n",
    "68                energy_100g\n",
    "70                   fat_100g\n",
    "71         saturated-fat_100g\n",
    "106        carbohydrates_100g\n",
    "107               sugars_100g\n",
    "117             proteins_100g\n",
    "121                 salt_100g\n",
    "122               sodium_100g\n",
    "```\n",
    "Correspondes à des données quantitatives. Nous allons donc étendre notre analyse a certaines colonnes incluses dans"
   ]
  },
  {
   "cell_type": "code",
   "execution_count": null,
   "metadata": {
    "pycharm": {
     "is_executing": false,
     "name": "#%%\n"
    }
   },
   "outputs": [],
   "source": [
    "completude_df[(completude_df[\"Completude\"] >= 10.0)&(completude_df[\"Completude\"] < 70.0)]"
   ]
  },
  {
   "cell_type": "markdown",
   "metadata": {
    "pycharm": {
     "name": "#%% md\n"
    }
   },
   "source": [
    "On retient alors les colonnes suivantes\n",
    "```\n",
    "104\ttrans-fat_100g\t14.303652\n",
    "105\tcholesterol_100g\t14.382140\n",
    "116\tfiber_100g\t29.860238\n",
    "124\tvitamin-a_100g\t13.779704\n",
    "129\tvitamin-c_100g\t14.132801\n",
    "143\tcalcium_100g\t14.473610\n",
    "145\tiron_100g\t14.142711\n",
    "```\n",
    "On regrettera de ne pas pouvoir retenir les vitamines B, leur couverture étant trop faible."
   ]
  },
  {
   "cell_type": "code",
   "execution_count": null,
   "metadata": {
    "pycharm": {
     "is_executing": false,
     "name": "#%%\n"
    }
   },
   "outputs": [],
   "source": [
    "all_columns = [\n",
    "    'calcium_100g','cholesterol_100g', 'trans-fat_100g', 'iron_100g',\n",
    "    'vitamin-c_100g', 'vitamin-a_100g', 'fat_100g', 'saturated-fat_100g', \n",
    "    'sugars_100g', 'carbohydrates_100g', 'proteins_100g','salt_100g',  \n",
    "    'sodium_100g'\n",
    "]\n",
    "energie = [\"energy_100g\"]\n",
    "categories_columns = ['code', 'product_name']"
   ]
  },
  {
   "cell_type": "markdown",
   "metadata": {
    "pycharm": {
     "name": "#%% md\n"
    }
   },
   "source": [
    "### Détection et traitement des données aberrantes."
   ]
  },
  {
   "cell_type": "code",
   "execution_count": null,
   "metadata": {
    "pycharm": {
     "is_executing": false,
     "name": "#%% \n"
    }
   },
   "outputs": [],
   "source": [
    "# Restrictions aux index étudiés\n",
    "data_restricted_df = data_df[all_columns]\n",
    "data_restricted_df.describe()"
   ]
  },
  {
   "cell_type": "markdown",
   "metadata": {
    "pycharm": {
     "name": "#%% md\n"
    }
   },
   "source": [
    "On constate des données < 0 et d'autre > 100g, on va donc procéder à des remplacements"
   ]
  },
  {
   "cell_type": "code",
   "execution_count": null,
   "metadata": {
    "pycharm": {
     "is_executing": true,
     "name": "#%%\n"
    }
   },
   "outputs": [],
   "source": [
    "# TODO: remplacer par la mediane\n",
    "\n",
    "for c in data_restricted_df.columns:\n",
    "    data_restricted_df[c][data_restricted_df[c] <= 0] = data_restricted_df[c].median()\n",
    "    data_restricted_df[data_restricted_df >= 100] = data_restricted_df[c].median()\n",
    "    data_restricted_df[data_restricted_df.isnull()] = 0"
   ]
  },
  {
   "cell_type": "code",
   "execution_count": null,
   "metadata": {
    "pycharm": {
     "is_executing": false,
     "name": "#%%\n"
    }
   },
   "outputs": [],
   "source": [
    "# Vérification\n",
    "data_restricted_df.describe()"
   ]
  },
  {
   "cell_type": "markdown",
   "metadata": {
    "pycharm": {
     "name": "#%% md\n"
    }
   },
   "source": [
    "Visualistaion des boites à moustache"
   ]
  },
  {
   "cell_type": "code",
   "execution_count": null,
   "metadata": {
    "pycharm": {
     "is_executing": false,
     "name": "#%%\n"
    },
    "scrolled": false
   },
   "outputs": [],
   "source": [
    "n = len(data_restricted_df.columns)\n",
    "fig, ax = plt.subplots(n, 1, figsize=(12,n*6))\n",
    "for i, c in enumerate(data_restricted_df.columns):\n",
    "    plt.sca(ax[i])\n",
    "    try:\n",
    "        ax_ = sns.boxplot(data=data_restricted_df[c])\n",
    "        plt.title(c)\n",
    "    except ValueError as error:\n",
    "        print(error)"
   ]
  },
  {
   "cell_type": "markdown",
   "metadata": {},
   "source": [
    "Résultats pour les colonnes, calcium_100g, cholesterol_100g,trans-fat_100g,iron_100g,vitamin-c_100g, vitamin-a_100g les données sont trop applaties, nous avons un problème d'échelle. \n",
    "Ces données seront traitées en mg pour 100g."
   ]
  },
  {
   "cell_type": "code",
   "execution_count": null,
   "metadata": {
    "pycharm": {
     "is_executing": false,
     "name": "#%%\n"
    }
   },
   "outputs": [],
   "source": [
    "data_restricted_df[\"calcium_100g\"] *= 1000\n",
    "data_restricted_df[\"cholesterol_100g\"] *= 1000\n",
    "data_restricted_df[\"trans-fat_100g\"] *= 1000\n",
    "data_restricted_df[\"vitamin-c_100g\"] *= 1000\n",
    "data_restricted_df[\"vitamin-a_100g\"] *= 1000"
   ]
  },
  {
   "cell_type": "markdown",
   "metadata": {
    "pycharm": {
     "name": "#%% md\n"
    }
   },
   "source": [
    "Affichage des boites à moustache sans les outliers afin de pouvoir afficher les quartiles pour toutes les colonnes."
   ]
  },
  {
   "cell_type": "code",
   "execution_count": null,
   "metadata": {
    "pycharm": {
     "is_executing": false,
     "name": "#%%\n"
    },
    "scrolled": false
   },
   "outputs": [],
   "source": [
    "n = len(data_restricted_df.columns)\n",
    "fig, ax = plt.subplots(n, 1, figsize=(12,n*6))\n",
    "for i, c in enumerate(data_restricted_df.columns):\n",
    "    plt.sca(ax[i])\n",
    "    try:\n",
    "        y_values = data_restricted_df[c]\n",
    "        # affichage sans les outilers\n",
    "        ax_ = sns.boxplot(data=data_restricted_df[c], showfliers=False)\n",
    "        plt.title(c)\n",
    "        #plt.ylim(0, 110)\n",
    "    except ValueError as error:\n",
    "        print(error)"
   ]
  },
  {
   "cell_type": "markdown",
   "metadata": {},
   "source": [
    "### Affichage des histogrammes pour les différents index"
   ]
  },
  {
   "cell_type": "code",
   "execution_count": null,
   "metadata": {
    "pycharm": {
     "is_executing": false,
     "name": "#%%\n"
    },
    "scrolled": false
   },
   "outputs": [],
   "source": [
    "# \n",
    "columns  = all_columns\n",
    "n = len(columns)\n",
    "fig, ax = plt.subplots(n, 1, figsize=(12,n*6))\n",
    "\n",
    "for i, s in enumerate(columns):\n",
    "    try:\n",
    "        plt.sca(ax[i])\n",
    "        print(f\"Analyse de {s}\")\n",
    "        print(data_restricted_df[s].describe())\n",
    "        sns.distplot(data_restricted_df[s], kde=True, norm_hist=True)\n",
    "    except Exception as error:\n",
    "        print(f'{error} while the display')\n"
   ]
  },
  {
   "cell_type": "markdown",
   "metadata": {},
   "source": [
    "### Affichage repartition "
   ]
  },
  {
   "cell_type": "code",
   "execution_count": null,
   "metadata": {
    "pycharm": {
     "is_executing": false,
     "name": "#%%\n"
    }
   },
   "outputs": [],
   "source": [
    "categs = [\"nova_group\", \"nutrition_grade_fr\", \"pnns_groups_2\", \"pnns_groups_1\"]\n",
    "n = len(categs)\n",
    "fig, ax = plt.subplots(n, 1, figsize=(12,n*6))\n",
    "\n",
    "for i, s in enumerate(categs):\n",
    "    try:\n",
    "        plt.sca(ax[i])\n",
    "        # trop de temps freeze\n",
    "        # sns.barplot(data_df[s])\n",
    "    except Exception as error:\n",
    "        print(f'{error} while the display')\n"
   ]
  },
  {
   "cell_type": "markdown",
   "metadata": {
    "pycharm": {
     "name": "#%% md\n"
    }
   },
   "source": [
    "### Résultats\n",
    "#TODO : rajouter le fait que pour ce colonnes les valeurs ne sont pas très parlante; se rapprocher d\"\n",
    "Une fois de plus on constate que les colonnes calcium_100g, cholesterol_100g,trans-fat_100g,iron_100g,vitamin-c_100g, vitamin-a_100g sont très applaties.\n",
    "\n",
    "### Conclusion\n",
    "Etant donnée le cadre de notre projet; répartition des macronutriment et/ou micronutriments dans le cadre de d'une alimentation de sportif. \n",
    "Nous allons omettre ces colonnes afin de préciser notre projet et nous concentrer sur la répartition des macronutriments.\n",
    "\n",
    "\n",
    "## 3. ANALYSE STATISTIQUE MULTIVARIE\n",
    "\n",
    "### Affichage des pair plots"
   ]
  },
  {
   "cell_type": "code",
   "execution_count": null,
   "metadata": {
    "pycharm": {
     "is_executing": false,
     "name": "#%%\n"
    }
   },
   "outputs": [],
   "source": [
    "sns.pairplot(data_df[all_columns])"
   ]
  },
  {
   "cell_type": "markdown",
   "metadata": {
    "pycharm": {
     "name": "#%% md\n"
    }
   },
   "source": [
    "### Affichage de la Heat map"
   ]
  },
  {
   "cell_type": "code",
   "execution_count": null,
   "metadata": {
    "pycharm": {
     "is_executing": false,
     "name": "#%%\n"
    }
   },
   "outputs": [],
   "source": [
    "sns.heatmap(data_df[all_columns].select_dtypes(include=np.number).corr())"
   ]
  },
  {
   "cell_type": "markdown",
   "metadata": {
    "pycharm": {
     "name": "#%% md\n"
    }
   },
   "source": [
    "### Résultat\n",
    "On constate une forte corrélation etre le sodium et le sel.\n",
    "\n",
    "\n",
    "## 4. EXPLOITATION DES DONNEES\n",
    "Analyse de la composition d'un repas, composé de plusiuers produits"
   ]
  },
  {
   "cell_type": "code",
   "execution_count": null,
   "metadata": {
    "pycharm": {
     "is_executing": false,
     "name": "#%% \n"
    }
   },
   "outputs": [],
   "source": [
    "columns = ['fat_100g', 'saturated-fat_100g', 'sugars_100g', \n",
    "           'carbohydrates_100g', 'proteins_100g','salt_100g',  \n",
    "           'calcium_100g', 'cholesterol_100g',\n",
    "           'trans-fat_100g', 'iron_100g', 'vitamin-c_100g', \n",
    "           'vitamin-a_100g', 'alcohol_100g']\n",
    "columns_mg = [\"vitamin-a_100g\", \"vitamin-c_100g\", \"iron_100g\"]"
   ]
  },
  {
   "cell_type": "markdown",
   "metadata": {},
   "source": [
    "Realisationd d'un echantillon (repas) compose de 5 produits"
   ]
  },
  {
   "cell_type": "code",
   "execution_count": null,
   "metadata": {
    "pycharm": {
     "is_executing": false,
     "name": "#%%\n"
    }
   },
   "outputs": [],
   "source": [
    "sample = data_df.sample(5)\n",
    "codes = sample[\"code\"]\n",
    "sum_ = sample.sum()\n"
   ]
  },
  {
   "cell_type": "markdown",
   "metadata": {},
   "source": [
    "Nom des produits "
   ]
  },
  {
   "cell_type": "code",
   "execution_count": null,
   "metadata": {
    "pycharm": {
     "is_executing": false,
     "name": "#%%\n"
    }
   },
   "outputs": [],
   "source": [
    "sample[[\"product_name\"]]"
   ]
  },
  {
   "cell_type": "markdown",
   "metadata": {},
   "source": [
    "Données de référence"
   ]
  },
  {
   "cell_type": "code",
   "execution_count": null,
   "metadata": {
    "pycharm": {
     "is_executing": false,
     "name": "#%%\n"
    }
   },
   "outputs": [],
   "source": [
    "reference = utils.get_reference(data_df, columns, columns_mg)"
   ]
  },
  {
   "cell_type": "code",
   "execution_count": null,
   "metadata": {
    "pycharm": {
     "is_executing": false,
     "name": "#%%\n"
    }
   },
   "outputs": [],
   "source": [
    "# Données de référence\n",
    "reference"
   ]
  },
  {
   "cell_type": "code",
   "execution_count": null,
   "metadata": {
    "pycharm": {
     "is_executing": false,
     "name": "#%%\n"
    }
   },
   "outputs": [],
   "source": [
    "# Données en Kcal\n",
    "metrics_brut = utils.get_metrics(sample, codes=list(codes), columns=columns, columns_mg=columns_mg)\n",
    "metrics_brut"
   ]
  },
  {
   "cell_type": "markdown",
   "metadata": {},
   "source": [
    "Comparaison repas/reference"
   ]
  },
  {
   "cell_type": "code",
   "execution_count": null,
   "metadata": {
    "pycharm": {
     "is_executing": false,
     "name": "#%%\n"
    }
   },
   "outputs": [],
   "source": [
    "sns.set_color_codes(\"pastel\")\n",
    "sns.set(style=\"whitegrid\")\n",
    "data_metrics = pd.DataFrame({\"Repas\": metrics_brut, \"Reference\": reference})\n",
    "data_metrics.plot.barh()\n",
    "plt.show()\n"
   ]
  },
  {
   "cell_type": "markdown",
   "metadata": {},
   "source": [
    "# Affichage radar"
   ]
  },
  {
   "cell_type": "code",
   "execution_count": null,
   "metadata": {
    "pycharm": {
     "is_executing": false,
     "name": "#%%\n"
    }
   },
   "outputs": [],
   "source": [
    "utils.plot_radar(metrics_brut, columns)\n",
    "utils.plot_radar(reference, columns)\n"
   ]
  },
  {
   "cell_type": "markdown",
   "metadata": {
    "pycharm": {
     "name": "#%% md\n"
    }
   },
   "source": [
    "Repartition energétique"
   ]
  },
  {
   "cell_type": "code",
   "execution_count": null,
   "metadata": {
    "pycharm": {
     "is_executing": false,
     "name": "#%%\n"
    }
   },
   "outputs": [],
   "source": [
    "sample_c = utils.get_kcal(metrics_brut)\n",
    "sample_c.describe()"
   ]
  },
  {
   "cell_type": "markdown",
   "metadata": {},
   "source": [
    "Reparition energetique du repas"
   ]
  },
  {
   "cell_type": "code",
   "execution_count": null,
   "metadata": {
    "pycharm": {
     "is_executing": false,
     "name": "#%%\n"
    }
   },
   "outputs": [],
   "source": [
    "sample_c.plot.pie(label=\"repas\", autopct='%1.0f%%', pctdistance=1.1, labeldistance=1.2, figsize=(18, 9))"
   ]
  },
  {
   "cell_type": "markdown",
   "metadata": {},
   "source": [
    "Reparition energetique de la référence"
   ]
  },
  {
   "cell_type": "code",
   "execution_count": null,
   "metadata": {
    "pycharm": {
     "is_executing": false,
     "name": "#%%\n"
    }
   },
   "outputs": [],
   "source": [
    "sample_ref_c = utils.get_kcal(reference)\n",
    "sample_ref_c.plot.pie(label=\"repas\", autopct='%1.0f%%', pctdistance=1.1, labeldistance=1.2, figsize=(18, 9))"
   ]
  },
  {
   "cell_type": "code",
   "execution_count": null,
   "metadata": {
    "pycharm": {
     "is_executing": false,
     "name": "#%%\n"
    }
   },
   "outputs": [],
   "source": []
  },
  {
   "cell_type": "markdown",
   "metadata": {
    "pycharm": {
     "name": "#%% md\n"
    }
   },
   "source": [
    "### 5. CONCLUSION \n",
    "Dans la dernière partie nous nous sommes concentré à calculer la répartition des macronutiments pour 100g de produit, "
   ]
  },
  {
   "cell_type": "code",
   "execution_count": null,
   "metadata": {
    "pycharm": {
     "is_executing": false,
     "name": "#%%\n"
    }
   },
   "outputs": [],
   "source": []
  },
  {
   "cell_type": "code",
   "execution_count": null,
   "metadata": {},
   "outputs": [],
   "source": [
    "# TODO:\n",
    "camembert plus grand \n",
    "energie attention effet de sueil\n",
    "reference statique "
   ]
  }
 ],
 "metadata": {
  "kernelspec": {
   "display_name": "Python 3",
   "language": "python",
   "name": "python3"
  },
  "language_info": {
   "codemirror_mode": {
    "name": "ipython",
    "version": 3
   },
   "file_extension": ".py",
   "mimetype": "text/x-python",
   "name": "python",
   "nbconvert_exporter": "python",
   "pygments_lexer": "ipython3",
   "version": "3.7.4"
  },
  "pycharm": {
   "stem_cell": {
    "cell_type": "raw",
    "metadata": {
     "collapsed": false
    },
    "source": []
   }
  }
 },
 "nbformat": 4,
 "nbformat_minor": 1
}
